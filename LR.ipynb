{
 "cells": [
  {
   "cell_type": "markdown",
   "id": "fe6e9906",
   "metadata": {},
   "source": [
    "### Logistic Regression"
   ]
  },
  {
   "cell_type": "markdown",
   "id": "25a228df",
   "metadata": {},
   "source": [
    "#### The C hyperparameter is a regularization parameter in logisticregression that controls how closely the model fits to the training data. Regularization is a technique used to reduce overfitting by discouraging overly complex models in some way"
   ]
  },
  {
   "cell_type": "code",
   "execution_count": 1,
   "id": "c68bdfac",
   "metadata": {},
   "outputs": [],
   "source": [
    "import joblib #to pick the best model and save\n",
    "import pandas as pd\n",
    "from sklearn.linear_model import LogisticRegression\n",
    "from sklearn.model_selection import GridSearchCV #facilitating hyperparameter tunning - Cross Validation\n",
    "import warnings\n",
    "warnings.filterwarnings('ignore', category=FutureWarning)\n",
    "warnings.filterwarnings('ignore', category=DeprecationWarning)\n",
    "\n",
    "tr_features = pd.read_csv('train_features.csv')\n",
    "tr_labels = pd.read_csv('train_labels.csv')"
   ]
  },
  {
   "cell_type": "markdown",
   "id": "5cb6ff77",
   "metadata": {},
   "source": [
    "#### Function to print out the results for every hyperparameter combination print the average accuracy score acrros the 5 folds in our 5 folds cross validation and also the standard deviation"
   ]
  },
  {
   "cell_type": "code",
   "execution_count": 2,
   "id": "a8fe7ad6",
   "metadata": {},
   "outputs": [],
   "source": [
    "def print_results(results):\n",
    "    print('BEST PARAMS: {}\\n'.format(results.best_params_))\n",
    "\n",
    "    means = results.cv_results_['mean_test_score']\n",
    "    stds = results.cv_results_['std_test_score']\n",
    "    for mean, std, params in zip(means, stds, results.cv_results_['params']):\n",
    "        print('{} (+/-{}) for {}'.format(round(mean, 3), round(std * 2, 3), params))"
   ]
  },
  {
   "cell_type": "code",
   "execution_count": 3,
   "id": "80853cab",
   "metadata": {},
   "outputs": [
    {
     "name": "stdout",
     "output_type": "stream",
     "text": [
      "BEST PARAMS: {'C': 0.01}\n",
      "\n",
      "0.569 (+/-0.009) for {'C': 0.001}\n",
      "0.577 (+/-0.005) for {'C': 0.01}\n",
      "0.577 (+/-0.006) for {'C': 0.1}\n",
      "0.577 (+/-0.006) for {'C': 1}\n",
      "0.577 (+/-0.005) for {'C': 10}\n",
      "0.577 (+/-0.005) for {'C': 100}\n",
      "0.577 (+/-0.005) for {'C': 1000}\n"
     ]
    }
   ],
   "source": [
    "lr = LogisticRegression()\n",
    "parameters = {\n",
    "    'C': [0.001, 0.01, 0.1, 1, 10, 100, 1000]\n",
    "}\n",
    "\n",
    "cv = GridSearchCV(lr, parameters, cv=5)\n",
    "cv.fit(tr_features, tr_labels.values.ravel())\n",
    "\n",
    "print_results(cv)"
   ]
  },
  {
   "cell_type": "code",
   "execution_count": 4,
   "id": "354fe792",
   "metadata": {},
   "outputs": [
    {
     "data": {
      "text/plain": [
       "LogisticRegression(C=0.01)"
      ]
     },
     "execution_count": 4,
     "metadata": {},
     "output_type": "execute_result"
    }
   ],
   "source": [
    "cv.best_estimator_"
   ]
  },
  {
   "cell_type": "markdown",
   "id": "96c0a52b",
   "metadata": {},
   "source": [
    "#### Save the best model"
   ]
  },
  {
   "cell_type": "code",
   "execution_count": 5,
   "id": "6305b923",
   "metadata": {},
   "outputs": [
    {
     "data": {
      "text/plain": [
       "['LR_model.pkl']"
      ]
     },
     "execution_count": 5,
     "metadata": {},
     "output_type": "execute_result"
    }
   ],
   "source": [
    "joblib.dump(cv.best_estimator_, 'LR_model.pkl')"
   ]
  },
  {
   "cell_type": "code",
   "execution_count": null,
   "id": "756b42e7",
   "metadata": {},
   "outputs": [],
   "source": []
  }
 ],
 "metadata": {
  "kernelspec": {
   "display_name": "Python 3 (ipykernel)",
   "language": "python",
   "name": "python3"
  },
  "language_info": {
   "codemirror_mode": {
    "name": "ipython",
    "version": 3
   },
   "file_extension": ".py",
   "mimetype": "text/x-python",
   "name": "python",
   "nbconvert_exporter": "python",
   "pygments_lexer": "ipython3",
   "version": "3.8.8"
  }
 },
 "nbformat": 4,
 "nbformat_minor": 5
}
