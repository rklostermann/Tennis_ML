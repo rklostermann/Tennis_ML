{
 "cells": [
  {
   "cell_type": "markdown",
   "id": "f87eb650",
   "metadata": {},
   "source": [
    "#### Machine Learning model to predict if the number of games in the match is over or under 21.5. Only Games with 3 sets will be analysed"
   ]
  },
  {
   "cell_type": "markdown",
   "id": "58315c57",
   "metadata": {},
   "source": [
    "#### Importing Libraries"
   ]
  },
  {
   "cell_type": "code",
   "execution_count": 1,
   "id": "af3eeda7",
   "metadata": {},
   "outputs": [],
   "source": [
    "import pandas as pd\n",
    "import numpy as np\n",
    "import matplotlib.pyplot as plt\n",
    "import seaborn as sns\n",
    "%matplotlib inline\n",
    "from sklearn.preprocessing import StandardScaler\n",
    "from sklearn.preprocessing import OneHotEncoder\n",
    "from sklearn.model_selection import train_test_split\n"
   ]
  },
  {
   "cell_type": "markdown",
   "id": "84cf660f",
   "metadata": {},
   "source": [
    "#### Data downloaded from tennis-data.co.uk"
   ]
  },
  {
   "cell_type": "code",
   "execution_count": 2,
   "id": "95d59f8e",
   "metadata": {},
   "outputs": [],
   "source": [
    "#Importing Data\n",
    "dft = pd.read_csv('Tennis_Data.csv')"
   ]
  },
  {
   "cell_type": "markdown",
   "id": "9a6cb6d7",
   "metadata": {},
   "source": [
    "## Data Transformation, Exploration, and Cleaning "
   ]
  },
  {
   "cell_type": "code",
   "execution_count": 3,
   "id": "260d5373",
   "metadata": {},
   "outputs": [
    {
     "data": {
      "text/html": [
       "<div>\n",
       "<style scoped>\n",
       "    .dataframe tbody tr th:only-of-type {\n",
       "        vertical-align: middle;\n",
       "    }\n",
       "\n",
       "    .dataframe tbody tr th {\n",
       "        vertical-align: top;\n",
       "    }\n",
       "\n",
       "    .dataframe thead th {\n",
       "        text-align: right;\n",
       "    }\n",
       "</style>\n",
       "<table border=\"1\" class=\"dataframe\">\n",
       "  <thead>\n",
       "    <tr style=\"text-align: right;\">\n",
       "      <th></th>\n",
       "      <th>ATP</th>\n",
       "      <th>Location</th>\n",
       "      <th>Tournament</th>\n",
       "      <th>Date</th>\n",
       "      <th>Series</th>\n",
       "      <th>Court</th>\n",
       "      <th>Surface</th>\n",
       "      <th>Round</th>\n",
       "      <th>Best of</th>\n",
       "      <th>Winner</th>\n",
       "      <th>...</th>\n",
       "      <th>Lsets</th>\n",
       "      <th>Comment</th>\n",
       "      <th>B365W</th>\n",
       "      <th>B365L</th>\n",
       "      <th>PSW</th>\n",
       "      <th>PSL</th>\n",
       "      <th>MaxW</th>\n",
       "      <th>MaxL</th>\n",
       "      <th>AvgW</th>\n",
       "      <th>AvgL</th>\n",
       "    </tr>\n",
       "  </thead>\n",
       "  <tbody>\n",
       "    <tr>\n",
       "      <th>0</th>\n",
       "      <td>1</td>\n",
       "      <td>Brisbane</td>\n",
       "      <td>Brisbane International</td>\n",
       "      <td>04/01/2010</td>\n",
       "      <td>ATP250</td>\n",
       "      <td>Outdoor</td>\n",
       "      <td>Hard</td>\n",
       "      <td>1st Round</td>\n",
       "      <td>3</td>\n",
       "      <td>Gasquet R.</td>\n",
       "      <td>...</td>\n",
       "      <td>1.0</td>\n",
       "      <td>Completed</td>\n",
       "      <td>1.44</td>\n",
       "      <td>2.62</td>\n",
       "      <td>1.526</td>\n",
       "      <td>2.740</td>\n",
       "      <td>NaN</td>\n",
       "      <td>NaN</td>\n",
       "      <td>NaN</td>\n",
       "      <td>NaN</td>\n",
       "    </tr>\n",
       "    <tr>\n",
       "      <th>1</th>\n",
       "      <td>1</td>\n",
       "      <td>Brisbane</td>\n",
       "      <td>Brisbane International</td>\n",
       "      <td>04/01/2010</td>\n",
       "      <td>ATP250</td>\n",
       "      <td>Outdoor</td>\n",
       "      <td>Hard</td>\n",
       "      <td>1st Round</td>\n",
       "      <td>3</td>\n",
       "      <td>Odesnik W.</td>\n",
       "      <td>...</td>\n",
       "      <td>0.0</td>\n",
       "      <td>Completed</td>\n",
       "      <td>2.25</td>\n",
       "      <td>1.57</td>\n",
       "      <td>2.140</td>\n",
       "      <td>1.813</td>\n",
       "      <td>NaN</td>\n",
       "      <td>NaN</td>\n",
       "      <td>NaN</td>\n",
       "      <td>NaN</td>\n",
       "    </tr>\n",
       "    <tr>\n",
       "      <th>2</th>\n",
       "      <td>1</td>\n",
       "      <td>Brisbane</td>\n",
       "      <td>Brisbane International</td>\n",
       "      <td>04/01/2010</td>\n",
       "      <td>ATP250</td>\n",
       "      <td>Outdoor</td>\n",
       "      <td>Hard</td>\n",
       "      <td>1st Round</td>\n",
       "      <td>3</td>\n",
       "      <td>Gicquel M.</td>\n",
       "      <td>...</td>\n",
       "      <td>0.0</td>\n",
       "      <td>Completed</td>\n",
       "      <td>1.61</td>\n",
       "      <td>2.20</td>\n",
       "      <td>1.676</td>\n",
       "      <td>2.360</td>\n",
       "      <td>NaN</td>\n",
       "      <td>NaN</td>\n",
       "      <td>NaN</td>\n",
       "      <td>NaN</td>\n",
       "    </tr>\n",
       "    <tr>\n",
       "      <th>3</th>\n",
       "      <td>1</td>\n",
       "      <td>Brisbane</td>\n",
       "      <td>Brisbane International</td>\n",
       "      <td>04/01/2010</td>\n",
       "      <td>ATP250</td>\n",
       "      <td>Outdoor</td>\n",
       "      <td>Hard</td>\n",
       "      <td>1st Round</td>\n",
       "      <td>3</td>\n",
       "      <td>Falla A.</td>\n",
       "      <td>...</td>\n",
       "      <td>0.0</td>\n",
       "      <td>Completed</td>\n",
       "      <td>2.62</td>\n",
       "      <td>1.44</td>\n",
       "      <td>2.580</td>\n",
       "      <td>1.581</td>\n",
       "      <td>NaN</td>\n",
       "      <td>NaN</td>\n",
       "      <td>NaN</td>\n",
       "      <td>NaN</td>\n",
       "    </tr>\n",
       "    <tr>\n",
       "      <th>4</th>\n",
       "      <td>1</td>\n",
       "      <td>Brisbane</td>\n",
       "      <td>Brisbane International</td>\n",
       "      <td>04/01/2010</td>\n",
       "      <td>ATP250</td>\n",
       "      <td>Outdoor</td>\n",
       "      <td>Hard</td>\n",
       "      <td>1st Round</td>\n",
       "      <td>3</td>\n",
       "      <td>Levy H.</td>\n",
       "      <td>...</td>\n",
       "      <td>0.0</td>\n",
       "      <td>Completed</td>\n",
       "      <td>3.00</td>\n",
       "      <td>1.36</td>\n",
       "      <td>2.170</td>\n",
       "      <td>1.787</td>\n",
       "      <td>NaN</td>\n",
       "      <td>NaN</td>\n",
       "      <td>NaN</td>\n",
       "      <td>NaN</td>\n",
       "    </tr>\n",
       "  </tbody>\n",
       "</table>\n",
       "<p>5 rows × 36 columns</p>\n",
       "</div>"
      ],
      "text/plain": [
       "   ATP  Location              Tournament        Date  Series    Court Surface  \\\n",
       "0    1  Brisbane  Brisbane International  04/01/2010  ATP250  Outdoor    Hard   \n",
       "1    1  Brisbane  Brisbane International  04/01/2010  ATP250  Outdoor    Hard   \n",
       "2    1  Brisbane  Brisbane International  04/01/2010  ATP250  Outdoor    Hard   \n",
       "3    1  Brisbane  Brisbane International  04/01/2010  ATP250  Outdoor    Hard   \n",
       "4    1  Brisbane  Brisbane International  04/01/2010  ATP250  Outdoor    Hard   \n",
       "\n",
       "       Round  Best of      Winner  ... Lsets    Comment  B365W  B365L    PSW  \\\n",
       "0  1st Round        3  Gasquet R.  ...   1.0  Completed   1.44   2.62  1.526   \n",
       "1  1st Round        3  Odesnik W.  ...   0.0  Completed   2.25   1.57  2.140   \n",
       "2  1st Round        3  Gicquel M.  ...   0.0  Completed   1.61   2.20  1.676   \n",
       "3  1st Round        3    Falla A.  ...   0.0  Completed   2.62   1.44  2.580   \n",
       "4  1st Round        3     Levy H.  ...   0.0  Completed   3.00   1.36  2.170   \n",
       "\n",
       "     PSL  MaxW  MaxL  AvgW  AvgL  \n",
       "0  2.740   NaN   NaN   NaN   NaN  \n",
       "1  1.813   NaN   NaN   NaN   NaN  \n",
       "2  2.360   NaN   NaN   NaN   NaN  \n",
       "3  1.581   NaN   NaN   NaN   NaN  \n",
       "4  1.787   NaN   NaN   NaN   NaN  \n",
       "\n",
       "[5 rows x 36 columns]"
      ]
     },
     "execution_count": 3,
     "metadata": {},
     "output_type": "execute_result"
    }
   ],
   "source": [
    "dft.head()"
   ]
  },
  {
   "cell_type": "markdown",
   "id": "f1f53037",
   "metadata": {},
   "source": [
    "#### Data contains 30084 rows and 36 columns"
   ]
  },
  {
   "cell_type": "code",
   "execution_count": 4,
   "id": "5b853a96",
   "metadata": {},
   "outputs": [
    {
     "name": "stdout",
     "output_type": "stream",
     "text": [
      "<class 'pandas.core.frame.DataFrame'>\n",
      "RangeIndex: 30084 entries, 0 to 30083\n",
      "Data columns (total 36 columns):\n",
      " #   Column      Non-Null Count  Dtype  \n",
      "---  ------      --------------  -----  \n",
      " 0   ATP         30084 non-null  int64  \n",
      " 1   Location    30084 non-null  object \n",
      " 2   Tournament  30084 non-null  object \n",
      " 3   Date        30084 non-null  object \n",
      " 4   Series      30084 non-null  object \n",
      " 5   Court       30084 non-null  object \n",
      " 6   Surface     30084 non-null  object \n",
      " 7   Round       30084 non-null  object \n",
      " 8   Best of     30084 non-null  int64  \n",
      " 9   Winner      30084 non-null  object \n",
      " 10  Loser       30084 non-null  object \n",
      " 11  WRank       30072 non-null  float64\n",
      " 12  LRank       30020 non-null  float64\n",
      " 13  WPts        30074 non-null  float64\n",
      " 14  LPts        30021 non-null  float64\n",
      " 15  W1          29890 non-null  float64\n",
      " 16  L1          29893 non-null  float64\n",
      " 17  W2          29610 non-null  float64\n",
      " 18  L2          29610 non-null  float64\n",
      " 19  W3          14274 non-null  float64\n",
      " 20  L3          14274 non-null  float64\n",
      " 21  W4          2895 non-null   float64\n",
      " 22  L4          2895 non-null   float64\n",
      " 23  W5          1092 non-null   float64\n",
      " 24  L5          1092 non-null   float64\n",
      " 25  Wsets       29890 non-null  float64\n",
      " 26  Lsets       29887 non-null  float64\n",
      " 27  Comment     30084 non-null  object \n",
      " 28  B365W       29940 non-null  float64\n",
      " 29  B365L       29963 non-null  float64\n",
      " 30  PSW         29921 non-null  float64\n",
      " 31  PSL         29921 non-null  float64\n",
      " 32  MaxW        29109 non-null  float64\n",
      " 33  MaxL        29109 non-null  float64\n",
      " 34  AvgW        29109 non-null  float64\n",
      " 35  AvgL        29109 non-null  float64\n",
      "dtypes: float64(24), int64(2), object(10)\n",
      "memory usage: 8.3+ MB\n"
     ]
    }
   ],
   "source": [
    "dft.info()"
   ]
  },
  {
   "cell_type": "markdown",
   "id": "1840018e",
   "metadata": {},
   "source": [
    "#### ATP Tournaments have a max 3 of sets, Grand Slams have a max of 5. This study is focused in 3 sets tournaments, therefore the rows where 'Best of' column contains 5 needs to be dropped"
   ]
  },
  {
   "cell_type": "code",
   "execution_count": 5,
   "id": "6913e6fb",
   "metadata": {},
   "outputs": [
    {
     "data": {
      "text/plain": [
       "Best of\n",
       "3          24126\n",
       "5           5958\n",
       "dtype: int64"
      ]
     },
     "execution_count": 5,
     "metadata": {},
     "output_type": "execute_result"
    }
   ],
   "source": [
    "dft[['Best of']].value_counts()"
   ]
  },
  {
   "cell_type": "code",
   "execution_count": 6,
   "id": "35d95f75",
   "metadata": {},
   "outputs": [],
   "source": [
    "dft.drop(dft.index[dft['Best of'] == 5], inplace=True)"
   ]
  },
  {
   "cell_type": "code",
   "execution_count": 7,
   "id": "0a7c89d4",
   "metadata": {},
   "outputs": [
    {
     "data": {
      "text/plain": [
       "Best of\n",
       "3          24126\n",
       "dtype: int64"
      ]
     },
     "execution_count": 7,
     "metadata": {},
     "output_type": "execute_result"
    }
   ],
   "source": [
    "dft[['Best of']].value_counts()"
   ]
  },
  {
   "cell_type": "code",
   "execution_count": 8,
   "id": "c0f34ca8",
   "metadata": {},
   "outputs": [],
   "source": [
    "dft.drop(dft.index[dft['Series'] == 'Grand Slam'], inplace=True)"
   ]
  },
  {
   "cell_type": "code",
   "execution_count": 9,
   "id": "b7e28bcc",
   "metadata": {},
   "outputs": [],
   "source": [
    "dft.drop(dft.index[dft['Series'] == 'Masters Cup'], inplace=True)"
   ]
  },
  {
   "cell_type": "markdown",
   "id": "a2914657",
   "metadata": {},
   "source": [
    "#### Only matches completed are relevant to the model, therefore 'Comment' not completed should be dropped"
   ]
  },
  {
   "cell_type": "code",
   "execution_count": 10,
   "id": "05db58af",
   "metadata": {},
   "outputs": [
    {
     "data": {
      "text/plain": [
       "Comment     \n",
       "Completed       23081\n",
       "Retired           688\n",
       "Walkover          162\n",
       "Awarded             2\n",
       "Disqualified        1\n",
       "Rrtired             1\n",
       "dtype: int64"
      ]
     },
     "execution_count": 10,
     "metadata": {},
     "output_type": "execute_result"
    }
   ],
   "source": [
    "dft[['Comment']].value_counts()"
   ]
  },
  {
   "cell_type": "code",
   "execution_count": 11,
   "id": "a44ee18b",
   "metadata": {},
   "outputs": [],
   "source": [
    "dft.drop(dft.index[dft['Comment'] != \"Completed\"], inplace=True)"
   ]
  },
  {
   "cell_type": "code",
   "execution_count": 12,
   "id": "34a5c086",
   "metadata": {},
   "outputs": [
    {
     "data": {
      "text/plain": [
       "Comment  \n",
       "Completed    23081\n",
       "dtype: int64"
      ]
     },
     "execution_count": 12,
     "metadata": {},
     "output_type": "execute_result"
    }
   ],
   "source": [
    "dft[['Comment']].value_counts()"
   ]
  },
  {
   "cell_type": "markdown",
   "id": "91183154",
   "metadata": {},
   "source": [
    "#### As some matches don't have 3rd set, change the empty to zero is needed to add the values and create Total Games column"
   ]
  },
  {
   "cell_type": "code",
   "execution_count": 13,
   "id": "47e1906a",
   "metadata": {},
   "outputs": [],
   "source": [
    "dft['W3'] = dft['W3'].fillna(0)\n",
    "dft['L3'] = dft['L3'].fillna(0)"
   ]
  },
  {
   "cell_type": "markdown",
   "id": "36305762",
   "metadata": {},
   "source": [
    "#### Adding Total Games Column"
   ]
  },
  {
   "cell_type": "code",
   "execution_count": 14,
   "id": "9a9572ec",
   "metadata": {},
   "outputs": [],
   "source": [
    "dft['Total_Games'] = dft['W1'] + dft['L1']+dft['W2']+dft['L2']+dft['W3']+dft['L3']"
   ]
  },
  {
   "cell_type": "code",
   "execution_count": 15,
   "id": "756b4f9d",
   "metadata": {},
   "outputs": [
    {
     "data": {
      "text/plain": [
       "0        29.0\n",
       "1        23.0\n",
       "2        16.0\n",
       "3        20.0\n",
       "4        14.0\n",
       "         ... \n",
       "30064    26.0\n",
       "30065    31.0\n",
       "30066    35.0\n",
       "30067    22.0\n",
       "30068    28.0\n",
       "Name: Total_Games, Length: 23081, dtype: float64"
      ]
     },
     "execution_count": 15,
     "metadata": {},
     "output_type": "execute_result"
    }
   ],
   "source": [
    "dft['Total_Games']"
   ]
  },
  {
   "cell_type": "markdown",
   "id": "34b8d7ee",
   "metadata": {},
   "source": [
    "#### Create binary values for over and under 21.5 games"
   ]
  },
  {
   "cell_type": "code",
   "execution_count": 16,
   "id": "fce1f680",
   "metadata": {},
   "outputs": [],
   "source": [
    "dft['Over_21.5'] = np.where(dft['Total_Games']>21,1,0)"
   ]
  },
  {
   "cell_type": "code",
   "execution_count": 17,
   "id": "1962cb85",
   "metadata": {},
   "outputs": [
    {
     "data": {
      "text/plain": [
       "0        1\n",
       "1        1\n",
       "2        0\n",
       "3        0\n",
       "4        0\n",
       "        ..\n",
       "30064    1\n",
       "30065    1\n",
       "30066    1\n",
       "30067    1\n",
       "30068    1\n",
       "Name: Over_21.5, Length: 23081, dtype: int32"
      ]
     },
     "execution_count": 17,
     "metadata": {},
     "output_type": "execute_result"
    }
   ],
   "source": [
    "dft['Over_21.5']"
   ]
  },
  {
   "cell_type": "markdown",
   "id": "2cdb0a20",
   "metadata": {},
   "source": [
    "#### Adding Ranking difference"
   ]
  },
  {
   "cell_type": "code",
   "execution_count": 18,
   "id": "97c7e30b",
   "metadata": {},
   "outputs": [],
   "source": [
    "dft['DRank'] = dft['WRank'] - dft['LRank']\n",
    "dft['DRank'] = dft['DRank'].abs()"
   ]
  },
  {
   "cell_type": "code",
   "execution_count": 19,
   "id": "4f58b452",
   "metadata": {},
   "outputs": [],
   "source": [
    "#To drop an error where players had the same Rank\n",
    "dft.drop(dft.index[dft['DRank'] == 0], inplace=True)"
   ]
  },
  {
   "cell_type": "markdown",
   "id": "464b7546",
   "metadata": {},
   "source": [
    "#### Adding Points difference"
   ]
  },
  {
   "cell_type": "code",
   "execution_count": 20,
   "id": "9a3eb534",
   "metadata": {},
   "outputs": [],
   "source": [
    "dft['DPts'] = dft['WPts'] - dft['LPts']\n",
    "dft['DPts'] = dft['DPts'].abs()"
   ]
  },
  {
   "cell_type": "code",
   "execution_count": 21,
   "id": "4fe43f53",
   "metadata": {},
   "outputs": [],
   "source": [
    "#dft['DPts'] = dft['DPts'].replace(['0'],'1')"
   ]
  },
  {
   "cell_type": "markdown",
   "id": "19aa98e6",
   "metadata": {},
   "source": [
    "#### Checking how many matches are over/under 21.5 games"
   ]
  },
  {
   "cell_type": "code",
   "execution_count": 22,
   "id": "a60a1c71",
   "metadata": {},
   "outputs": [
    {
     "data": {
      "text/plain": [
       "Over_21.5\n",
       "1            12248\n",
       "0            10832\n",
       "dtype: int64"
      ]
     },
     "execution_count": 22,
     "metadata": {},
     "output_type": "execute_result"
    }
   ],
   "source": [
    "dft[['Over_21.5']].value_counts()"
   ]
  },
  {
   "cell_type": "code",
   "execution_count": 23,
   "id": "668ef365",
   "metadata": {},
   "outputs": [
    {
     "data": {
      "text/plain": [
       "Over_21.5\n",
       "1            0.530676\n",
       "0            0.469324\n",
       "dtype: float64"
      ]
     },
     "execution_count": 23,
     "metadata": {},
     "output_type": "execute_result"
    }
   ],
   "source": [
    "dft[['Over_21.5']].value_counts(normalize = True)"
   ]
  },
  {
   "cell_type": "markdown",
   "id": "1546a27c",
   "metadata": {},
   "source": [
    "#### Checking for missing values"
   ]
  },
  {
   "cell_type": "code",
   "execution_count": 24,
   "id": "8a43ea8e",
   "metadata": {},
   "outputs": [
    {
     "data": {
      "text/plain": [
       "ATP                0\n",
       "Location           0\n",
       "Tournament         0\n",
       "Date               0\n",
       "Series             0\n",
       "Court              0\n",
       "Surface            0\n",
       "Round              0\n",
       "Best of            0\n",
       "Winner             0\n",
       "Loser              0\n",
       "WRank             12\n",
       "LRank             53\n",
       "WPts              10\n",
       "LPts              52\n",
       "W1                 0\n",
       "L1                 0\n",
       "W2                 2\n",
       "L2                 2\n",
       "W3                 0\n",
       "L3                 0\n",
       "W4             23079\n",
       "L4             23079\n",
       "W5             23080\n",
       "L5             23080\n",
       "Wsets              0\n",
       "Lsets              0\n",
       "Comment            0\n",
       "B365W            112\n",
       "B365L            106\n",
       "PSW              141\n",
       "PSL              141\n",
       "MaxW             807\n",
       "MaxL             807\n",
       "AvgW             807\n",
       "AvgL             807\n",
       "Total_Games        2\n",
       "Over_21.5          0\n",
       "DRank             65\n",
       "DPts              62\n",
       "dtype: int64"
      ]
     },
     "execution_count": 24,
     "metadata": {},
     "output_type": "execute_result"
    }
   ],
   "source": [
    "dft.isnull().sum()"
   ]
  },
  {
   "cell_type": "markdown",
   "id": "33157db6",
   "metadata": {},
   "source": [
    "#### Dropping missing values <br> Check why sintax dft = dft.dropna(subset = ['LRank','WRank','W2','L2'], how = 'all') is not valid\n"
   ]
  },
  {
   "cell_type": "code",
   "execution_count": 25,
   "id": "12016c16",
   "metadata": {},
   "outputs": [],
   "source": [
    "dft = dft.dropna(subset = ['LRank'], how = 'all')\n",
    "dft = dft.dropna(subset = ['WRank'], how = 'all')\n",
    "dft = dft.dropna(subset = ['W2'], how = 'all')\n",
    "dft = dft.dropna(subset = ['L2'], how = 'all')\n",
    "dft = dft.dropna(subset = ['PSW'], how = 'all')\n",
    "dft = dft.dropna(subset = ['PSL'], how = 'all')"
   ]
  },
  {
   "cell_type": "code",
   "execution_count": 26,
   "id": "2eab4a49",
   "metadata": {},
   "outputs": [
    {
     "data": {
      "text/plain": [
       "ATP                0\n",
       "Location           0\n",
       "Tournament         0\n",
       "Date               0\n",
       "Series             0\n",
       "Court              0\n",
       "Surface            0\n",
       "Round              0\n",
       "Best of            0\n",
       "Winner             0\n",
       "Loser              0\n",
       "WRank              0\n",
       "LRank              0\n",
       "WPts               0\n",
       "LPts               0\n",
       "W1                 0\n",
       "L1                 0\n",
       "W2                 0\n",
       "L2                 0\n",
       "W3                 0\n",
       "L3                 0\n",
       "W4             22872\n",
       "L4             22872\n",
       "W5             22873\n",
       "L5             22873\n",
       "Wsets              0\n",
       "Lsets              0\n",
       "Comment            0\n",
       "B365W             32\n",
       "B365L             27\n",
       "PSW                0\n",
       "PSL                0\n",
       "MaxW             773\n",
       "MaxL             773\n",
       "AvgW             773\n",
       "AvgL             773\n",
       "Total_Games        0\n",
       "Over_21.5          0\n",
       "DRank              0\n",
       "DPts               0\n",
       "dtype: int64"
      ]
     },
     "execution_count": 26,
     "metadata": {},
     "output_type": "execute_result"
    }
   ],
   "source": [
    "dft.isnull().sum()"
   ]
  },
  {
   "cell_type": "code",
   "execution_count": 27,
   "id": "bb778ab7",
   "metadata": {},
   "outputs": [
    {
     "name": "stdout",
     "output_type": "stream",
     "text": [
      "<class 'pandas.core.frame.DataFrame'>\n",
      "Int64Index: 22873 entries, 0 to 30068\n",
      "Data columns (total 40 columns):\n",
      " #   Column       Non-Null Count  Dtype  \n",
      "---  ------       --------------  -----  \n",
      " 0   ATP          22873 non-null  int64  \n",
      " 1   Location     22873 non-null  object \n",
      " 2   Tournament   22873 non-null  object \n",
      " 3   Date         22873 non-null  object \n",
      " 4   Series       22873 non-null  object \n",
      " 5   Court        22873 non-null  object \n",
      " 6   Surface      22873 non-null  object \n",
      " 7   Round        22873 non-null  object \n",
      " 8   Best of      22873 non-null  int64  \n",
      " 9   Winner       22873 non-null  object \n",
      " 10  Loser        22873 non-null  object \n",
      " 11  WRank        22873 non-null  float64\n",
      " 12  LRank        22873 non-null  float64\n",
      " 13  WPts         22873 non-null  float64\n",
      " 14  LPts         22873 non-null  float64\n",
      " 15  W1           22873 non-null  float64\n",
      " 16  L1           22873 non-null  float64\n",
      " 17  W2           22873 non-null  float64\n",
      " 18  L2           22873 non-null  float64\n",
      " 19  W3           22873 non-null  float64\n",
      " 20  L3           22873 non-null  float64\n",
      " 21  W4           1 non-null      float64\n",
      " 22  L4           1 non-null      float64\n",
      " 23  W5           0 non-null      float64\n",
      " 24  L5           0 non-null      float64\n",
      " 25  Wsets        22873 non-null  float64\n",
      " 26  Lsets        22873 non-null  float64\n",
      " 27  Comment      22873 non-null  object \n",
      " 28  B365W        22841 non-null  float64\n",
      " 29  B365L        22846 non-null  float64\n",
      " 30  PSW          22873 non-null  float64\n",
      " 31  PSL          22873 non-null  float64\n",
      " 32  MaxW         22100 non-null  float64\n",
      " 33  MaxL         22100 non-null  float64\n",
      " 34  AvgW         22100 non-null  float64\n",
      " 35  AvgL         22100 non-null  float64\n",
      " 36  Total_Games  22873 non-null  float64\n",
      " 37  Over_21.5    22873 non-null  int32  \n",
      " 38  DRank        22873 non-null  float64\n",
      " 39  DPts         22873 non-null  float64\n",
      "dtypes: float64(27), int32(1), int64(2), object(10)\n",
      "memory usage: 7.1+ MB\n"
     ]
    }
   ],
   "source": [
    "dft.info()"
   ]
  },
  {
   "cell_type": "code",
   "execution_count": 28,
   "id": "d1ffc801",
   "metadata": {},
   "outputs": [
    {
     "data": {
      "text/plain": [
       "count    22873.000000\n",
       "mean        23.274472\n",
       "std          5.925232\n",
       "min         12.000000\n",
       "25%         19.000000\n",
       "50%         22.000000\n",
       "75%         28.000000\n",
       "max         39.000000\n",
       "Name: Total_Games, dtype: float64"
      ]
     },
     "execution_count": 28,
     "metadata": {},
     "output_type": "execute_result"
    }
   ],
   "source": [
    "dft['Total_Games'].describe()"
   ]
  },
  {
   "cell_type": "code",
   "execution_count": 29,
   "id": "8af6b864",
   "metadata": {},
   "outputs": [
    {
     "data": {
      "text/plain": [
       "<AxesSubplot:xlabel='Total_Games', ylabel='Count'>"
      ]
     },
     "execution_count": 29,
     "metadata": {},
     "output_type": "execute_result"
    },
    {
     "data": {
      "image/png": "[encoded data removed]",
      "text/plain": [
       "<Figure size 432x288 with 1 Axes>"
      ]
     },
     "metadata": {
      "needs_background": "light"
     },
     "output_type": "display_data"
    }
   ],
   "source": [
    "sns.histplot(dft['Total_Games'],bins=25, kde=True)"
   ]
  },
  {
   "cell_type": "code",
   "execution_count": 30,
   "id": "2cb80c8e",
   "metadata": {},
   "outputs": [
    {
     "data": {
      "text/plain": [
       "<AxesSubplot:xlabel='Total_Games', ylabel='Density'>"
      ]
     },
     "execution_count": 30,
     "metadata": {},
     "output_type": "execute_result"
    },
    {
     "data": {
      "image/png": "[encoded data removed]",
      "text/plain": [
       "<Figure size 432x288 with 1 Axes>"
      ]
     },
     "metadata": {
      "needs_background": "light"
     },
     "output_type": "display_data"
    }
   ],
   "source": [
    "sns.kdeplot(dft['Total_Games'],bw_adjust=2,cut=0)"
   ]
  },
  {
   "cell_type": "code",
   "execution_count": 31,
   "id": "798f51e1",
   "metadata": {},
   "outputs": [
    {
     "data": {
      "text/html": [
       "<div>\n",
       "<style scoped>\n",
       "    .dataframe tbody tr th:only-of-type {\n",
       "        vertical-align: middle;\n",
       "    }\n",
       "\n",
       "    .dataframe tbody tr th {\n",
       "        vertical-align: top;\n",
       "    }\n",
       "\n",
       "    .dataframe thead th {\n",
       "        text-align: right;\n",
       "    }\n",
       "</style>\n",
       "<table border=\"1\" class=\"dataframe\">\n",
       "  <thead>\n",
       "    <tr style=\"text-align: right;\">\n",
       "      <th></th>\n",
       "      <th>Total_Games</th>\n",
       "    </tr>\n",
       "    <tr>\n",
       "      <th>Surface</th>\n",
       "      <th></th>\n",
       "    </tr>\n",
       "  </thead>\n",
       "  <tbody>\n",
       "    <tr>\n",
       "      <th>Clay</th>\n",
       "      <td>22.945957</td>\n",
       "    </tr>\n",
       "    <tr>\n",
       "      <th>Hard</th>\n",
       "      <td>23.370524</td>\n",
       "    </tr>\n",
       "    <tr>\n",
       "      <th>Grass</th>\n",
       "      <td>23.884194</td>\n",
       "    </tr>\n",
       "  </tbody>\n",
       "</table>\n",
       "</div>"
      ],
      "text/plain": [
       "         Total_Games\n",
       "Surface             \n",
       "Clay       22.945957\n",
       "Hard       23.370524\n",
       "Grass      23.884194"
      ]
     },
     "execution_count": 31,
     "metadata": {},
     "output_type": "execute_result"
    }
   ],
   "source": [
    "dft.groupby('Surface')[['Total_Games']].mean().sort_values(by='Total_Games')"
   ]
  },
  {
   "cell_type": "code",
   "execution_count": 32,
   "id": "577b77f6",
   "metadata": {},
   "outputs": [
    {
     "data": {
      "text/html": [
       "<div>\n",
       "<style scoped>\n",
       "    .dataframe tbody tr th:only-of-type {\n",
       "        vertical-align: middle;\n",
       "    }\n",
       "\n",
       "    .dataframe tbody tr th {\n",
       "        vertical-align: top;\n",
       "    }\n",
       "\n",
       "    .dataframe thead th {\n",
       "        text-align: right;\n",
       "    }\n",
       "</style>\n",
       "<table border=\"1\" class=\"dataframe\">\n",
       "  <thead>\n",
       "    <tr style=\"text-align: right;\">\n",
       "      <th></th>\n",
       "      <th>Total_Games</th>\n",
       "    </tr>\n",
       "    <tr>\n",
       "      <th>Court</th>\n",
       "      <th></th>\n",
       "    </tr>\n",
       "  </thead>\n",
       "  <tbody>\n",
       "    <tr>\n",
       "      <th>Outdoor</th>\n",
       "      <td>23.194444</td>\n",
       "    </tr>\n",
       "    <tr>\n",
       "      <th>Indoor</th>\n",
       "      <td>23.559298</td>\n",
       "    </tr>\n",
       "  </tbody>\n",
       "</table>\n",
       "</div>"
      ],
      "text/plain": [
       "         Total_Games\n",
       "Court               \n",
       "Outdoor    23.194444\n",
       "Indoor     23.559298"
      ]
     },
     "execution_count": 32,
     "metadata": {},
     "output_type": "execute_result"
    }
   ],
   "source": [
    "dft.groupby('Court')[['Total_Games']].mean().sort_values(by='Total_Games')"
   ]
  },
  {
   "cell_type": "code",
   "execution_count": 33,
   "id": "02b65f45",
   "metadata": {},
   "outputs": [
    {
     "data": {
      "text/plain": [
       "<AxesSubplot:xlabel='Over_21.5', ylabel='count'>"
      ]
     },
     "execution_count": 33,
     "metadata": {},
     "output_type": "execute_result"
    },
    {
     "data": {
      "image/png": "[encoded data removed]",
      "text/plain": [
       "<Figure size 432x288 with 1 Axes>"
      ]
     },
     "metadata": {
      "needs_background": "light"
     },
     "output_type": "display_data"
    }
   ],
   "source": [
    "sns.countplot(x = 'Over_21.5', data=dft)"
   ]
  },
  {
   "cell_type": "code",
   "execution_count": 34,
   "id": "312e227d",
   "metadata": {},
   "outputs": [
    {
     "data": {
      "text/plain": [
       "<matplotlib.legend.Legend at 0x1f95f333040>"
      ]
     },
     "execution_count": 34,
     "metadata": {},
     "output_type": "execute_result"
    },
    {
     "data": {
      "image/png": "[encoded data removed]",
      "text/plain": [
       "<Figure size 576x360 with 1 Axes>"
      ]
     },
     "metadata": {
      "needs_background": "light"
     },
     "output_type": "display_data"
    }
   ],
   "source": [
    "plt.figure(figsize=(8,5))\n",
    "sns.boxplot(x='Surface', y='Total_Games', hue='Court', data=dft)\n",
    "plt.legend(loc=1)"
   ]
  },
  {
   "cell_type": "code",
   "execution_count": 35,
   "id": "0b0e2fb7",
   "metadata": {},
   "outputs": [
    {
     "data": {
      "text/plain": [
       "<AxesSubplot:xlabel='Court', ylabel='Total_Games'>"
      ]
     },
     "execution_count": 35,
     "metadata": {},
     "output_type": "execute_result"
    },
    {
     "data": {
      "image/png": "[encoded data removed]",
      "text/plain": [
       "<Figure size 432x288 with 1 Axes>"
      ]
     },
     "metadata": {
      "needs_background": "light"
     },
     "output_type": "display_data"
    }
   ],
   "source": [
    "sns.boxplot(x='Court', y='Total_Games', data=dft)"
   ]
  },
  {
   "cell_type": "code",
   "execution_count": 36,
   "id": "aa1aea50",
   "metadata": {},
   "outputs": [
    {
     "data": {
      "text/plain": [
       "<AxesSubplot:xlabel='Series', ylabel='Total_Games'>"
      ]
     },
     "execution_count": 36,
     "metadata": {},
     "output_type": "execute_result"
    },
    {
     "data": {
      "image/png": "[encoded data removed]",
      "text/plain": [
       "<Figure size 432x288 with 1 Axes>"
      ]
     },
     "metadata": {
      "needs_background": "light"
     },
     "output_type": "display_data"
    }
   ],
   "source": [
    "sns.boxplot(x='Series', y='Total_Games', data=dft)"
   ]
  },
  {
   "cell_type": "code",
   "execution_count": 37,
   "id": "968055ae",
   "metadata": {},
   "outputs": [
    {
     "data": {
      "text/plain": [
       "<AxesSubplot:xlabel='Round', ylabel='Total_Games'>"
      ]
     },
     "execution_count": 37,
     "metadata": {},
     "output_type": "execute_result"
    },
    {
     "data": {
      "image/png": "[encoded data removed]",
      "text/plain": [
       "<Figure size 720x360 with 1 Axes>"
      ]
     },
     "metadata": {
      "needs_background": "light"
     },
     "output_type": "display_data"
    }
   ],
   "source": [
    "plt.figure(figsize=(10,5))\n",
    "sns.boxplot(x='Round', y='Total_Games', data=dft)"
   ]
  },
  {
   "cell_type": "code",
   "execution_count": 38,
   "id": "265855b3",
   "metadata": {},
   "outputs": [
    {
     "data": {
      "text/plain": [
       "<seaborn.axisgrid.JointGrid at 0x1f95f5c1be0>"
      ]
     },
     "execution_count": 38,
     "metadata": {},
     "output_type": "execute_result"
    },
    {
     "data": {
      "image/png": "[encoded data removed]",
      "text/plain": [
       "<Figure size 432x432 with 3 Axes>"
      ]
     },
     "metadata": {
      "needs_background": "light"
     },
     "output_type": "display_data"
    }
   ],
   "source": [
    "sns.jointplot(x='DRank', y='Total_Games', data=dft)"
   ]
  },
  {
   "cell_type": "code",
   "execution_count": 39,
   "id": "dec7c3a4",
   "metadata": {},
   "outputs": [
    {
     "data": {
      "text/plain": [
       "<AxesSubplot:xlabel='DRank', ylabel='Count'>"
      ]
     },
     "execution_count": 39,
     "metadata": {},
     "output_type": "execute_result"
    },
    {
     "data": {
      "image/png": "[encoded data removed]",
      "text/plain": [
       "<Figure size 432x288 with 1 Axes>"
      ]
     },
     "metadata": {
      "needs_background": "light"
     },
     "output_type": "display_data"
    }
   ],
   "source": [
    "sns.histplot(dft['DRank'],bins=80, kde=True)"
   ]
  },
  {
   "cell_type": "code",
   "execution_count": 40,
   "id": "bc03822f",
   "metadata": {},
   "outputs": [
    {
     "data": {
      "text/plain": [
       "<AxesSubplot:xlabel='DPts', ylabel='Count'>"
      ]
     },
     "execution_count": 40,
     "metadata": {},
     "output_type": "execute_result"
    },
    {
     "data": {
      "image/png": "[encoded data removed]",
      "text/plain": [
       "<Figure size 432x288 with 1 Axes>"
      ]
     },
     "metadata": {
      "needs_background": "light"
     },
     "output_type": "display_data"
    }
   ],
   "source": [
    "sns.histplot(dft['DPts'],bins=80, kde=True)"
   ]
  },
  {
   "cell_type": "markdown",
   "id": "08604325",
   "metadata": {},
   "source": [
    "### Normalizing the data Z score"
   ]
  },
  {
   "cell_type": "code",
   "execution_count": 41,
   "id": "4471c3ad",
   "metadata": {},
   "outputs": [],
   "source": [
    "dft['DRank_zm'] = StandardScaler().fit_transform(dft[['DRank']])\n",
    "dft['DPts_zm'] = StandardScaler().fit_transform(dft[['DPts']])\n",
    "dft['PSW_zm'] = StandardScaler().fit_transform(dft[['PSW']])\n",
    "dft['PSL_zm'] = StandardScaler().fit_transform(dft[['PSL']])"
   ]
  },
  {
   "cell_type": "code",
   "execution_count": 42,
   "id": "227ed09a",
   "metadata": {},
   "outputs": [
    {
     "data": {
      "text/plain": [
       "<AxesSubplot:xlabel='DPts_zm', ylabel='Count'>"
      ]
     },
     "execution_count": 42,
     "metadata": {},
     "output_type": "execute_result"
    },
    {
     "data": {
      "image/png": "[encoded data removed]",
      "text/plain": [
       "<Figure size 432x288 with 1 Axes>"
      ]
     },
     "metadata": {
      "needs_background": "light"
     },
     "output_type": "display_data"
    }
   ],
   "source": [
    "sns.histplot(dft['DPts_zm'],bins=80, kde=True)"
   ]
  },
  {
   "cell_type": "markdown",
   "id": "6cae8034",
   "metadata": {},
   "source": [
    "### Encoding Categorical Features"
   ]
  },
  {
   "cell_type": "markdown",
   "id": "1b07446a",
   "metadata": {},
   "source": [
    "#### As the Round of the tournament is Ordinal is going to be mapped individually"
   ]
  },
  {
   "cell_type": "code",
   "execution_count": 43,
   "id": "8f735df5",
   "metadata": {},
   "outputs": [],
   "source": [
    "Round_mapping = {'1st Round':0, '2nd Round':1, '3rd Round':2,\n",
    "                 '4th Round':3, 'Quarterfinals':4, 'Semifinals':5,\n",
    "                'The Final':6}\n",
    "dft['RoundEnco'] = dft['Round'].map(Round_mapping)"
   ]
  },
  {
   "cell_type": "code",
   "execution_count": 44,
   "id": "811fb217",
   "metadata": {},
   "outputs": [
    {
     "data": {
      "text/plain": [
       "1st Round        10006\n",
       "2nd Round         6749\n",
       "Quarterfinals     2645\n",
       "Semifinals        1326\n",
       "3rd Round         1301\n",
       "The Final          675\n",
       "4th Round          171\n",
       "Name: Round, dtype: int64"
      ]
     },
     "execution_count": 44,
     "metadata": {},
     "output_type": "execute_result"
    }
   ],
   "source": [
    "dft['Round'].value_counts()"
   ]
  },
  {
   "cell_type": "code",
   "execution_count": 45,
   "id": "52542073",
   "metadata": {},
   "outputs": [
    {
     "data": {
      "text/plain": [
       "0    10006\n",
       "1     6749\n",
       "4     2645\n",
       "5     1326\n",
       "2     1301\n",
       "6      675\n",
       "3      171\n",
       "Name: RoundEnco, dtype: int64"
      ]
     },
     "execution_count": 45,
     "metadata": {},
     "output_type": "execute_result"
    }
   ],
   "source": [
    "dft['RoundEnco'].value_counts()"
   ]
  },
  {
   "cell_type": "markdown",
   "id": "8c0bf054",
   "metadata": {},
   "source": [
    "#### Categorical variable using One Hot Encoding"
   ]
  },
  {
   "cell_type": "code",
   "execution_count": 46,
   "id": "2d0a726c",
   "metadata": {},
   "outputs": [
    {
     "data": {
      "text/plain": [
       "array(['Hard', 'Clay', 'Grass'], dtype=object)"
      ]
     },
     "execution_count": 46,
     "metadata": {},
     "output_type": "execute_result"
    }
   ],
   "source": [
    "dft['Surface'].unique()"
   ]
  },
  {
   "cell_type": "code",
   "execution_count": 47,
   "id": "f202cd52",
   "metadata": {},
   "outputs": [],
   "source": [
    "ohe = OneHotEncoder(sparse=False)"
   ]
  },
  {
   "cell_type": "code",
   "execution_count": 48,
   "id": "fc8a1029",
   "metadata": {},
   "outputs": [
    {
     "name": "stdout",
     "output_type": "stream",
     "text": [
      "OneHotEncoder(sparse=False)\n"
     ]
    }
   ],
   "source": [
    "print(ohe)"
   ]
  },
  {
   "cell_type": "code",
   "execution_count": 49,
   "id": "b0e57e94",
   "metadata": {},
   "outputs": [],
   "source": [
    "encoded_arry = ohe.fit_transform(dft[['Surface']])"
   ]
  },
  {
   "cell_type": "code",
   "execution_count": 50,
   "id": "777c1bc9",
   "metadata": {},
   "outputs": [
    {
     "data": {
      "text/plain": [
       "[array(['Clay', 'Grass', 'Hard'], dtype=object)]"
      ]
     },
     "execution_count": 50,
     "metadata": {},
     "output_type": "execute_result"
    }
   ],
   "source": [
    "ohe.categories_"
   ]
  },
  {
   "cell_type": "code",
   "execution_count": 51,
   "id": "1061a274",
   "metadata": {},
   "outputs": [],
   "source": [
    "encoded_labels = ohe.categories_"
   ]
  },
  {
   "cell_type": "code",
   "execution_count": 52,
   "id": "4ecf6bed",
   "metadata": {},
   "outputs": [],
   "source": [
    "dft_encoded = pd.DataFrame(encoded_arry, columns = encoded_labels )"
   ]
  },
  {
   "cell_type": "code",
   "execution_count": 53,
   "id": "a45f2e4e",
   "metadata": {},
   "outputs": [
    {
     "data": {
      "text/html": [
       "<div>\n",
       "<style scoped>\n",
       "    .dataframe tbody tr th:only-of-type {\n",
       "        vertical-align: middle;\n",
       "    }\n",
       "\n",
       "    .dataframe tbody tr th {\n",
       "        vertical-align: top;\n",
       "    }\n",
       "\n",
       "    .dataframe thead tr th {\n",
       "        text-align: left;\n",
       "    }\n",
       "</style>\n",
       "<table border=\"1\" class=\"dataframe\">\n",
       "  <thead>\n",
       "    <tr>\n",
       "      <th></th>\n",
       "      <th>Hard</th>\n",
       "    </tr>\n",
       "  </thead>\n",
       "  <tbody>\n",
       "    <tr>\n",
       "      <th>count</th>\n",
       "      <td>22873.000000</td>\n",
       "    </tr>\n",
       "    <tr>\n",
       "      <th>mean</th>\n",
       "      <td>0.588554</td>\n",
       "    </tr>\n",
       "    <tr>\n",
       "      <th>std</th>\n",
       "      <td>0.492106</td>\n",
       "    </tr>\n",
       "    <tr>\n",
       "      <th>min</th>\n",
       "      <td>0.000000</td>\n",
       "    </tr>\n",
       "    <tr>\n",
       "      <th>25%</th>\n",
       "      <td>0.000000</td>\n",
       "    </tr>\n",
       "    <tr>\n",
       "      <th>50%</th>\n",
       "      <td>1.000000</td>\n",
       "    </tr>\n",
       "    <tr>\n",
       "      <th>75%</th>\n",
       "      <td>1.000000</td>\n",
       "    </tr>\n",
       "    <tr>\n",
       "      <th>max</th>\n",
       "      <td>1.000000</td>\n",
       "    </tr>\n",
       "  </tbody>\n",
       "</table>\n",
       "</div>"
      ],
      "text/plain": [
       "               Hard\n",
       "count  22873.000000\n",
       "mean       0.588554\n",
       "std        0.492106\n",
       "min        0.000000\n",
       "25%        0.000000\n",
       "50%        1.000000\n",
       "75%        1.000000\n",
       "max        1.000000"
      ]
     },
     "execution_count": 53,
     "metadata": {},
     "output_type": "execute_result"
    }
   ],
   "source": [
    "dft_encoded['Hard'].describe()"
   ]
  },
  {
   "cell_type": "code",
   "execution_count": 54,
   "id": "b1adaedd",
   "metadata": {},
   "outputs": [],
   "source": [
    "new_dft = dft.reset_index(drop=True)"
   ]
  },
  {
   "cell_type": "code",
   "execution_count": 55,
   "id": "90bbfa50",
   "metadata": {},
   "outputs": [],
   "source": [
    "result = pd.concat([new_dft,dft_encoded], axis=1)"
   ]
  },
  {
   "cell_type": "code",
   "execution_count": 56,
   "id": "e52486b4",
   "metadata": {},
   "outputs": [
    {
     "data": {
      "text/html": [
       "<div>\n",
       "<style scoped>\n",
       "    .dataframe tbody tr th:only-of-type {\n",
       "        vertical-align: middle;\n",
       "    }\n",
       "\n",
       "    .dataframe tbody tr th {\n",
       "        vertical-align: top;\n",
       "    }\n",
       "\n",
       "    .dataframe thead th {\n",
       "        text-align: right;\n",
       "    }\n",
       "</style>\n",
       "<table border=\"1\" class=\"dataframe\">\n",
       "  <thead>\n",
       "    <tr style=\"text-align: right;\">\n",
       "      <th></th>\n",
       "      <th>ATP</th>\n",
       "      <th>Location</th>\n",
       "      <th>Tournament</th>\n",
       "      <th>Date</th>\n",
       "      <th>Series</th>\n",
       "      <th>Court</th>\n",
       "      <th>Surface</th>\n",
       "      <th>Round</th>\n",
       "      <th>Best of</th>\n",
       "      <th>Winner</th>\n",
       "      <th>...</th>\n",
       "      <th>DRank</th>\n",
       "      <th>DPts</th>\n",
       "      <th>DRank_zm</th>\n",
       "      <th>DPts_zm</th>\n",
       "      <th>PSW_zm</th>\n",
       "      <th>PSL_zm</th>\n",
       "      <th>RoundEnco</th>\n",
       "      <th>(Clay,)</th>\n",
       "      <th>(Grass,)</th>\n",
       "      <th>(Hard,)</th>\n",
       "    </tr>\n",
       "  </thead>\n",
       "  <tbody>\n",
       "    <tr>\n",
       "      <th>0</th>\n",
       "      <td>1</td>\n",
       "      <td>Brisbane</td>\n",
       "      <td>Brisbane International</td>\n",
       "      <td>04/01/2010</td>\n",
       "      <td>ATP250</td>\n",
       "      <td>Outdoor</td>\n",
       "      <td>Hard</td>\n",
       "      <td>1st Round</td>\n",
       "      <td>3</td>\n",
       "      <td>Gasquet R.</td>\n",
       "      <td>...</td>\n",
       "      <td>36.0</td>\n",
       "      <td>282.0</td>\n",
       "      <td>-0.293192</td>\n",
       "      <td>-0.508353</td>\n",
       "      <td>-0.348671</td>\n",
       "      <td>-0.206079</td>\n",
       "      <td>0</td>\n",
       "      <td>0.0</td>\n",
       "      <td>0.0</td>\n",
       "      <td>1.0</td>\n",
       "    </tr>\n",
       "    <tr>\n",
       "      <th>1</th>\n",
       "      <td>1</td>\n",
       "      <td>Brisbane</td>\n",
       "      <td>Brisbane International</td>\n",
       "      <td>04/01/2010</td>\n",
       "      <td>ATP250</td>\n",
       "      <td>Outdoor</td>\n",
       "      <td>Hard</td>\n",
       "      <td>1st Round</td>\n",
       "      <td>3</td>\n",
       "      <td>Odesnik W.</td>\n",
       "      <td>...</td>\n",
       "      <td>42.0</td>\n",
       "      <td>146.0</td>\n",
       "      <td>-0.238838</td>\n",
       "      <td>-0.576725</td>\n",
       "      <td>0.175435</td>\n",
       "      <td>-0.458377</td>\n",
       "      <td>0</td>\n",
       "      <td>0.0</td>\n",
       "      <td>0.0</td>\n",
       "      <td>1.0</td>\n",
       "    </tr>\n",
       "    <tr>\n",
       "      <th>2</th>\n",
       "      <td>1</td>\n",
       "      <td>Brisbane</td>\n",
       "      <td>Brisbane International</td>\n",
       "      <td>04/01/2010</td>\n",
       "      <td>ATP250</td>\n",
       "      <td>Outdoor</td>\n",
       "      <td>Hard</td>\n",
       "      <td>1st Round</td>\n",
       "      <td>3</td>\n",
       "      <td>Gicquel M.</td>\n",
       "      <td>...</td>\n",
       "      <td>22.0</td>\n",
       "      <td>157.0</td>\n",
       "      <td>-0.420017</td>\n",
       "      <td>-0.571195</td>\n",
       "      <td>-0.220632</td>\n",
       "      <td>-0.309502</td>\n",
       "      <td>0</td>\n",
       "      <td>0.0</td>\n",
       "      <td>0.0</td>\n",
       "      <td>1.0</td>\n",
       "    </tr>\n",
       "    <tr>\n",
       "      <th>3</th>\n",
       "      <td>1</td>\n",
       "      <td>Brisbane</td>\n",
       "      <td>Brisbane International</td>\n",
       "      <td>04/01/2010</td>\n",
       "      <td>ATP250</td>\n",
       "      <td>Outdoor</td>\n",
       "      <td>Hard</td>\n",
       "      <td>1st Round</td>\n",
       "      <td>3</td>\n",
       "      <td>Falla A.</td>\n",
       "      <td>...</td>\n",
       "      <td>49.0</td>\n",
       "      <td>515.0</td>\n",
       "      <td>-0.175425</td>\n",
       "      <td>-0.391215</td>\n",
       "      <td>0.551016</td>\n",
       "      <td>-0.521519</td>\n",
       "      <td>0</td>\n",
       "      <td>0.0</td>\n",
       "      <td>0.0</td>\n",
       "      <td>1.0</td>\n",
       "    </tr>\n",
       "    <tr>\n",
       "      <th>4</th>\n",
       "      <td>1</td>\n",
       "      <td>Brisbane</td>\n",
       "      <td>Brisbane International</td>\n",
       "      <td>04/01/2010</td>\n",
       "      <td>ATP250</td>\n",
       "      <td>Outdoor</td>\n",
       "      <td>Hard</td>\n",
       "      <td>1st Round</td>\n",
       "      <td>3</td>\n",
       "      <td>Levy H.</td>\n",
       "      <td>...</td>\n",
       "      <td>52.0</td>\n",
       "      <td>188.0</td>\n",
       "      <td>-0.148248</td>\n",
       "      <td>-0.555610</td>\n",
       "      <td>0.201043</td>\n",
       "      <td>-0.465453</td>\n",
       "      <td>0</td>\n",
       "      <td>0.0</td>\n",
       "      <td>0.0</td>\n",
       "      <td>1.0</td>\n",
       "    </tr>\n",
       "    <tr>\n",
       "      <th>...</th>\n",
       "      <td>...</td>\n",
       "      <td>...</td>\n",
       "      <td>...</td>\n",
       "      <td>...</td>\n",
       "      <td>...</td>\n",
       "      <td>...</td>\n",
       "      <td>...</td>\n",
       "      <td>...</td>\n",
       "      <td>...</td>\n",
       "      <td>...</td>\n",
       "      <td>...</td>\n",
       "      <td>...</td>\n",
       "      <td>...</td>\n",
       "      <td>...</td>\n",
       "      <td>...</td>\n",
       "      <td>...</td>\n",
       "      <td>...</td>\n",
       "      <td>...</td>\n",
       "      <td>...</td>\n",
       "      <td>...</td>\n",
       "      <td>...</td>\n",
       "    </tr>\n",
       "    <tr>\n",
       "      <th>22868</th>\n",
       "      <td>60</td>\n",
       "      <td>Stockholm</td>\n",
       "      <td>Stockholm Open</td>\n",
       "      <td>11/11/2021</td>\n",
       "      <td>ATP250</td>\n",
       "      <td>Indoor</td>\n",
       "      <td>Hard</td>\n",
       "      <td>Quarterfinals</td>\n",
       "      <td>3</td>\n",
       "      <td>Paul T.</td>\n",
       "      <td>...</td>\n",
       "      <td>91.0</td>\n",
       "      <td>643.0</td>\n",
       "      <td>0.205051</td>\n",
       "      <td>-0.326864</td>\n",
       "      <td>0.448585</td>\n",
       "      <td>-0.510905</td>\n",
       "      <td>4</td>\n",
       "      <td>0.0</td>\n",
       "      <td>0.0</td>\n",
       "      <td>1.0</td>\n",
       "    </tr>\n",
       "    <tr>\n",
       "      <th>22869</th>\n",
       "      <td>60</td>\n",
       "      <td>Stockholm</td>\n",
       "      <td>Stockholm Open</td>\n",
       "      <td>11/11/2021</td>\n",
       "      <td>ATP250</td>\n",
       "      <td>Indoor</td>\n",
       "      <td>Hard</td>\n",
       "      <td>Quarterfinals</td>\n",
       "      <td>3</td>\n",
       "      <td>Shapovalov D.</td>\n",
       "      <td>...</td>\n",
       "      <td>42.0</td>\n",
       "      <td>1348.0</td>\n",
       "      <td>-0.238838</td>\n",
       "      <td>0.027566</td>\n",
       "      <td>-0.464760</td>\n",
       "      <td>-0.053667</td>\n",
       "      <td>4</td>\n",
       "      <td>0.0</td>\n",
       "      <td>0.0</td>\n",
       "      <td>1.0</td>\n",
       "    </tr>\n",
       "    <tr>\n",
       "      <th>22870</th>\n",
       "      <td>60</td>\n",
       "      <td>Stockholm</td>\n",
       "      <td>Stockholm Open</td>\n",
       "      <td>12/11/2021</td>\n",
       "      <td>ATP250</td>\n",
       "      <td>Indoor</td>\n",
       "      <td>Hard</td>\n",
       "      <td>Semifinals</td>\n",
       "      <td>3</td>\n",
       "      <td>Paul T.</td>\n",
       "      <td>...</td>\n",
       "      <td>11.0</td>\n",
       "      <td>303.0</td>\n",
       "      <td>-0.519666</td>\n",
       "      <td>-0.497795</td>\n",
       "      <td>0.431513</td>\n",
       "      <td>-0.508183</td>\n",
       "      <td>5</td>\n",
       "      <td>0.0</td>\n",
       "      <td>0.0</td>\n",
       "      <td>1.0</td>\n",
       "    </tr>\n",
       "    <tr>\n",
       "      <th>22871</th>\n",
       "      <td>60</td>\n",
       "      <td>Stockholm</td>\n",
       "      <td>Stockholm Open</td>\n",
       "      <td>12/11/2021</td>\n",
       "      <td>ATP250</td>\n",
       "      <td>Indoor</td>\n",
       "      <td>Hard</td>\n",
       "      <td>Semifinals</td>\n",
       "      <td>3</td>\n",
       "      <td>Shapovalov D.</td>\n",
       "      <td>...</td>\n",
       "      <td>7.0</td>\n",
       "      <td>915.0</td>\n",
       "      <td>-0.555902</td>\n",
       "      <td>-0.190119</td>\n",
       "      <td>0.346154</td>\n",
       "      <td>-0.494575</td>\n",
       "      <td>5</td>\n",
       "      <td>0.0</td>\n",
       "      <td>0.0</td>\n",
       "      <td>1.0</td>\n",
       "    </tr>\n",
       "    <tr>\n",
       "      <th>22872</th>\n",
       "      <td>60</td>\n",
       "      <td>Stockholm</td>\n",
       "      <td>Stockholm Open</td>\n",
       "      <td>13/11/2021</td>\n",
       "      <td>ATP250</td>\n",
       "      <td>Indoor</td>\n",
       "      <td>Hard</td>\n",
       "      <td>The Final</td>\n",
       "      <td>3</td>\n",
       "      <td>Paul T.</td>\n",
       "      <td>...</td>\n",
       "      <td>34.0</td>\n",
       "      <td>1229.0</td>\n",
       "      <td>-0.311310</td>\n",
       "      <td>-0.032259</td>\n",
       "      <td>0.397370</td>\n",
       "      <td>-0.502740</td>\n",
       "      <td>6</td>\n",
       "      <td>0.0</td>\n",
       "      <td>0.0</td>\n",
       "      <td>1.0</td>\n",
       "    </tr>\n",
       "  </tbody>\n",
       "</table>\n",
       "<p>22873 rows × 48 columns</p>\n",
       "</div>"
      ],
      "text/plain": [
       "       ATP   Location              Tournament        Date  Series    Court  \\\n",
       "0        1   Brisbane  Brisbane International  04/01/2010  ATP250  Outdoor   \n",
       "1        1   Brisbane  Brisbane International  04/01/2010  ATP250  Outdoor   \n",
       "2        1   Brisbane  Brisbane International  04/01/2010  ATP250  Outdoor   \n",
       "3        1   Brisbane  Brisbane International  04/01/2010  ATP250  Outdoor   \n",
       "4        1   Brisbane  Brisbane International  04/01/2010  ATP250  Outdoor   \n",
       "...    ...        ...                     ...         ...     ...      ...   \n",
       "22868   60  Stockholm          Stockholm Open  11/11/2021  ATP250   Indoor   \n",
       "22869   60  Stockholm          Stockholm Open  11/11/2021  ATP250   Indoor   \n",
       "22870   60  Stockholm          Stockholm Open  12/11/2021  ATP250   Indoor   \n",
       "22871   60  Stockholm          Stockholm Open  12/11/2021  ATP250   Indoor   \n",
       "22872   60  Stockholm          Stockholm Open  13/11/2021  ATP250   Indoor   \n",
       "\n",
       "      Surface          Round  Best of         Winner  ... DRank    DPts  \\\n",
       "0        Hard      1st Round        3     Gasquet R.  ...  36.0   282.0   \n",
       "1        Hard      1st Round        3     Odesnik W.  ...  42.0   146.0   \n",
       "2        Hard      1st Round        3     Gicquel M.  ...  22.0   157.0   \n",
       "3        Hard      1st Round        3       Falla A.  ...  49.0   515.0   \n",
       "4        Hard      1st Round        3        Levy H.  ...  52.0   188.0   \n",
       "...       ...            ...      ...            ...  ...   ...     ...   \n",
       "22868    Hard  Quarterfinals        3        Paul T.  ...  91.0   643.0   \n",
       "22869    Hard  Quarterfinals        3  Shapovalov D.  ...  42.0  1348.0   \n",
       "22870    Hard     Semifinals        3        Paul T.  ...  11.0   303.0   \n",
       "22871    Hard     Semifinals        3  Shapovalov D.  ...   7.0   915.0   \n",
       "22872    Hard      The Final        3        Paul T.  ...  34.0  1229.0   \n",
       "\n",
       "       DRank_zm   DPts_zm    PSW_zm    PSL_zm  RoundEnco  (Clay,)  (Grass,)  \\\n",
       "0     -0.293192 -0.508353 -0.348671 -0.206079          0      0.0       0.0   \n",
       "1     -0.238838 -0.576725  0.175435 -0.458377          0      0.0       0.0   \n",
       "2     -0.420017 -0.571195 -0.220632 -0.309502          0      0.0       0.0   \n",
       "3     -0.175425 -0.391215  0.551016 -0.521519          0      0.0       0.0   \n",
       "4     -0.148248 -0.555610  0.201043 -0.465453          0      0.0       0.0   \n",
       "...         ...       ...       ...       ...        ...      ...       ...   \n",
       "22868  0.205051 -0.326864  0.448585 -0.510905          4      0.0       0.0   \n",
       "22869 -0.238838  0.027566 -0.464760 -0.053667          4      0.0       0.0   \n",
       "22870 -0.519666 -0.497795  0.431513 -0.508183          5      0.0       0.0   \n",
       "22871 -0.555902 -0.190119  0.346154 -0.494575          5      0.0       0.0   \n",
       "22872 -0.311310 -0.032259  0.397370 -0.502740          6      0.0       0.0   \n",
       "\n",
       "       (Hard,)  \n",
       "0          1.0  \n",
       "1          1.0  \n",
       "2          1.0  \n",
       "3          1.0  \n",
       "4          1.0  \n",
       "...        ...  \n",
       "22868      1.0  \n",
       "22869      1.0  \n",
       "22870      1.0  \n",
       "22871      1.0  \n",
       "22872      1.0  \n",
       "\n",
       "[22873 rows x 48 columns]"
      ]
     },
     "execution_count": 56,
     "metadata": {},
     "output_type": "execute_result"
    }
   ],
   "source": [
    "result"
   ]
  },
  {
   "cell_type": "code",
   "execution_count": 57,
   "id": "b6c8d8fe",
   "metadata": {},
   "outputs": [
    {
     "data": {
      "text/plain": [
       "count     22873\n",
       "unique        3\n",
       "top        Hard\n",
       "freq      13462\n",
       "Name: Surface, dtype: object"
      ]
     },
     "execution_count": 57,
     "metadata": {},
     "output_type": "execute_result"
    }
   ],
   "source": [
    "dft['Surface'].describe()"
   ]
  },
  {
   "cell_type": "markdown",
   "id": "92b1c2e0",
   "metadata": {},
   "source": [
    "### Selecting the features"
   ]
  },
  {
   "cell_type": "code",
   "execution_count": 58,
   "id": "acbe9f59",
   "metadata": {},
   "outputs": [
    {
     "data": {
      "text/plain": [
       "['ATP',\n",
       " 'Location',\n",
       " 'Tournament',\n",
       " 'Date',\n",
       " 'Series',\n",
       " 'Court',\n",
       " 'Surface',\n",
       " 'Round',\n",
       " 'Best of',\n",
       " 'Winner',\n",
       " 'Loser',\n",
       " 'WRank',\n",
       " 'LRank',\n",
       " 'WPts',\n",
       " 'LPts',\n",
       " 'W1',\n",
       " 'L1',\n",
       " 'W2',\n",
       " 'L2',\n",
       " 'W3',\n",
       " 'L3',\n",
       " 'W4',\n",
       " 'L4',\n",
       " 'W5',\n",
       " 'L5',\n",
       " 'Wsets',\n",
       " 'Lsets',\n",
       " 'Comment',\n",
       " 'B365W',\n",
       " 'B365L',\n",
       " 'PSW',\n",
       " 'PSL',\n",
       " 'MaxW',\n",
       " 'MaxL',\n",
       " 'AvgW',\n",
       " 'AvgL',\n",
       " 'Total_Games',\n",
       " 'Over_21.5',\n",
       " 'DRank',\n",
       " 'DPts',\n",
       " 'DRank_zm',\n",
       " 'DPts_zm',\n",
       " 'PSW_zm',\n",
       " 'PSL_zm',\n",
       " 'RoundEnco',\n",
       " ('Clay',),\n",
       " ('Grass',),\n",
       " ('Hard',)]"
      ]
     },
     "execution_count": 58,
     "metadata": {},
     "output_type": "execute_result"
    }
   ],
   "source": [
    "list(result.columns)"
   ]
  },
  {
   "cell_type": "code",
   "execution_count": 59,
   "id": "637f78c1",
   "metadata": {},
   "outputs": [],
   "source": [
    "result.drop(['ATP','Location','Tournament','Date','Series','Court','Best of',\n",
    "          'Winner','Loser','WRank','LRank','WPts','LPts','W1','L1','W2',\n",
    "          'L2','W3','L3','W4','L4','W5','L5','Wsets','Lsets','Comment',\n",
    "          'MaxW','MaxL','AvgW','AvgL','Total_Games','B365W','B365L',\n",
    "         'DRank','DPts','Round','Surface','PSW','PSL'],axis = 1, inplace=True)"
   ]
  },
  {
   "cell_type": "code",
   "execution_count": 60,
   "id": "fd6288f1",
   "metadata": {},
   "outputs": [
    {
     "data": {
      "text/plain": [
       "['Over_21.5',\n",
       " 'DRank_zm',\n",
       " 'DPts_zm',\n",
       " 'PSW_zm',\n",
       " 'PSL_zm',\n",
       " 'RoundEnco',\n",
       " ('Clay',),\n",
       " ('Grass',),\n",
       " ('Hard',)]"
      ]
     },
     "execution_count": 60,
     "metadata": {},
     "output_type": "execute_result"
    }
   ],
   "source": [
    "list(result.columns)"
   ]
  },
  {
   "cell_type": "code",
   "execution_count": 61,
   "id": "749522fc",
   "metadata": {},
   "outputs": [
    {
     "data": {
      "text/html": [
       "<div>\n",
       "<style scoped>\n",
       "    .dataframe tbody tr th:only-of-type {\n",
       "        vertical-align: middle;\n",
       "    }\n",
       "\n",
       "    .dataframe tbody tr th {\n",
       "        vertical-align: top;\n",
       "    }\n",
       "\n",
       "    .dataframe thead th {\n",
       "        text-align: right;\n",
       "    }\n",
       "</style>\n",
       "<table border=\"1\" class=\"dataframe\">\n",
       "  <thead>\n",
       "    <tr style=\"text-align: right;\">\n",
       "      <th></th>\n",
       "      <th>Over_21.5</th>\n",
       "      <th>DRank_zm</th>\n",
       "      <th>DPts_zm</th>\n",
       "      <th>PSW_zm</th>\n",
       "      <th>PSL_zm</th>\n",
       "      <th>RoundEnco</th>\n",
       "      <th>(Clay,)</th>\n",
       "      <th>(Grass,)</th>\n",
       "      <th>(Hard,)</th>\n",
       "    </tr>\n",
       "  </thead>\n",
       "  <tbody>\n",
       "    <tr>\n",
       "      <th>0</th>\n",
       "      <td>1</td>\n",
       "      <td>-0.293192</td>\n",
       "      <td>-0.508353</td>\n",
       "      <td>-0.348671</td>\n",
       "      <td>-0.206079</td>\n",
       "      <td>0</td>\n",
       "      <td>0.0</td>\n",
       "      <td>0.0</td>\n",
       "      <td>1.0</td>\n",
       "    </tr>\n",
       "    <tr>\n",
       "      <th>1</th>\n",
       "      <td>1</td>\n",
       "      <td>-0.238838</td>\n",
       "      <td>-0.576725</td>\n",
       "      <td>0.175435</td>\n",
       "      <td>-0.458377</td>\n",
       "      <td>0</td>\n",
       "      <td>0.0</td>\n",
       "      <td>0.0</td>\n",
       "      <td>1.0</td>\n",
       "    </tr>\n",
       "    <tr>\n",
       "      <th>2</th>\n",
       "      <td>0</td>\n",
       "      <td>-0.420017</td>\n",
       "      <td>-0.571195</td>\n",
       "      <td>-0.220632</td>\n",
       "      <td>-0.309502</td>\n",
       "      <td>0</td>\n",
       "      <td>0.0</td>\n",
       "      <td>0.0</td>\n",
       "      <td>1.0</td>\n",
       "    </tr>\n",
       "    <tr>\n",
       "      <th>3</th>\n",
       "      <td>0</td>\n",
       "      <td>-0.175425</td>\n",
       "      <td>-0.391215</td>\n",
       "      <td>0.551016</td>\n",
       "      <td>-0.521519</td>\n",
       "      <td>0</td>\n",
       "      <td>0.0</td>\n",
       "      <td>0.0</td>\n",
       "      <td>1.0</td>\n",
       "    </tr>\n",
       "    <tr>\n",
       "      <th>4</th>\n",
       "      <td>0</td>\n",
       "      <td>-0.148248</td>\n",
       "      <td>-0.555610</td>\n",
       "      <td>0.201043</td>\n",
       "      <td>-0.465453</td>\n",
       "      <td>0</td>\n",
       "      <td>0.0</td>\n",
       "      <td>0.0</td>\n",
       "      <td>1.0</td>\n",
       "    </tr>\n",
       "    <tr>\n",
       "      <th>...</th>\n",
       "      <td>...</td>\n",
       "      <td>...</td>\n",
       "      <td>...</td>\n",
       "      <td>...</td>\n",
       "      <td>...</td>\n",
       "      <td>...</td>\n",
       "      <td>...</td>\n",
       "      <td>...</td>\n",
       "      <td>...</td>\n",
       "    </tr>\n",
       "    <tr>\n",
       "      <th>22868</th>\n",
       "      <td>1</td>\n",
       "      <td>0.205051</td>\n",
       "      <td>-0.326864</td>\n",
       "      <td>0.448585</td>\n",
       "      <td>-0.510905</td>\n",
       "      <td>4</td>\n",
       "      <td>0.0</td>\n",
       "      <td>0.0</td>\n",
       "      <td>1.0</td>\n",
       "    </tr>\n",
       "    <tr>\n",
       "      <th>22869</th>\n",
       "      <td>1</td>\n",
       "      <td>-0.238838</td>\n",
       "      <td>0.027566</td>\n",
       "      <td>-0.464760</td>\n",
       "      <td>-0.053667</td>\n",
       "      <td>4</td>\n",
       "      <td>0.0</td>\n",
       "      <td>0.0</td>\n",
       "      <td>1.0</td>\n",
       "    </tr>\n",
       "    <tr>\n",
       "      <th>22870</th>\n",
       "      <td>1</td>\n",
       "      <td>-0.519666</td>\n",
       "      <td>-0.497795</td>\n",
       "      <td>0.431513</td>\n",
       "      <td>-0.508183</td>\n",
       "      <td>5</td>\n",
       "      <td>0.0</td>\n",
       "      <td>0.0</td>\n",
       "      <td>1.0</td>\n",
       "    </tr>\n",
       "    <tr>\n",
       "      <th>22871</th>\n",
       "      <td>1</td>\n",
       "      <td>-0.555902</td>\n",
       "      <td>-0.190119</td>\n",
       "      <td>0.346154</td>\n",
       "      <td>-0.494575</td>\n",
       "      <td>5</td>\n",
       "      <td>0.0</td>\n",
       "      <td>0.0</td>\n",
       "      <td>1.0</td>\n",
       "    </tr>\n",
       "    <tr>\n",
       "      <th>22872</th>\n",
       "      <td>1</td>\n",
       "      <td>-0.311310</td>\n",
       "      <td>-0.032259</td>\n",
       "      <td>0.397370</td>\n",
       "      <td>-0.502740</td>\n",
       "      <td>6</td>\n",
       "      <td>0.0</td>\n",
       "      <td>0.0</td>\n",
       "      <td>1.0</td>\n",
       "    </tr>\n",
       "  </tbody>\n",
       "</table>\n",
       "<p>22873 rows × 9 columns</p>\n",
       "</div>"
      ],
      "text/plain": [
       "       Over_21.5  DRank_zm   DPts_zm    PSW_zm    PSL_zm  RoundEnco  (Clay,)  \\\n",
       "0              1 -0.293192 -0.508353 -0.348671 -0.206079          0      0.0   \n",
       "1              1 -0.238838 -0.576725  0.175435 -0.458377          0      0.0   \n",
       "2              0 -0.420017 -0.571195 -0.220632 -0.309502          0      0.0   \n",
       "3              0 -0.175425 -0.391215  0.551016 -0.521519          0      0.0   \n",
       "4              0 -0.148248 -0.555610  0.201043 -0.465453          0      0.0   \n",
       "...          ...       ...       ...       ...       ...        ...      ...   \n",
       "22868          1  0.205051 -0.326864  0.448585 -0.510905          4      0.0   \n",
       "22869          1 -0.238838  0.027566 -0.464760 -0.053667          4      0.0   \n",
       "22870          1 -0.519666 -0.497795  0.431513 -0.508183          5      0.0   \n",
       "22871          1 -0.555902 -0.190119  0.346154 -0.494575          5      0.0   \n",
       "22872          1 -0.311310 -0.032259  0.397370 -0.502740          6      0.0   \n",
       "\n",
       "       (Grass,)  (Hard,)  \n",
       "0           0.0      1.0  \n",
       "1           0.0      1.0  \n",
       "2           0.0      1.0  \n",
       "3           0.0      1.0  \n",
       "4           0.0      1.0  \n",
       "...         ...      ...  \n",
       "22868       0.0      1.0  \n",
       "22869       0.0      1.0  \n",
       "22870       0.0      1.0  \n",
       "22871       0.0      1.0  \n",
       "22872       0.0      1.0  \n",
       "\n",
       "[22873 rows x 9 columns]"
      ]
     },
     "execution_count": 61,
     "metadata": {},
     "output_type": "execute_result"
    }
   ],
   "source": [
    "result"
   ]
  },
  {
   "cell_type": "markdown",
   "id": "acba9270",
   "metadata": {},
   "source": [
    "### Split data into train, validation and test (Split in 60% 20% 20%)"
   ]
  },
  {
   "cell_type": "code",
   "execution_count": 62,
   "id": "d2557301",
   "metadata": {},
   "outputs": [],
   "source": [
    "features = result.drop('Over_21.5',axis = 1)\n",
    "labels = result['Over_21.5']\n",
    "X_train, X_test, y_train, y_test = train_test_split(features, labels, test_size=0.4, random_state=42)\n",
    "X_val, X_test, y_val, y_test = train_test_split(X_test, y_test, test_size=0.5, random_state=42)"
   ]
  },
  {
   "cell_type": "code",
   "execution_count": 63,
   "id": "a9ae01aa",
   "metadata": {},
   "outputs": [
    {
     "name": "stdout",
     "output_type": "stream",
     "text": [
      "0.6\n",
      "0.2\n",
      "0.2\n"
     ]
    }
   ],
   "source": [
    "for dataset in [y_train, y_val, y_test]:\n",
    "    print(round(len(dataset) / len(labels), 2))"
   ]
  },
  {
   "cell_type": "markdown",
   "id": "77e7871d",
   "metadata": {},
   "source": [
    "#### Write out all data"
   ]
  },
  {
   "cell_type": "code",
   "execution_count": 64,
   "id": "7b06191f",
   "metadata": {},
   "outputs": [],
   "source": [
    "X_train.to_csv('train_features.csv', index=False)\n",
    "X_val.to_csv('val_features.csv', index=False)\n",
    "X_test.to_csv('test_features.csv', index=False)\n",
    "\n",
    "y_train.to_csv('train_labels.csv', index=False)\n",
    "y_val.to_csv('val_labels.csv', index=False)\n",
    "y_test.to_csv('test_labels.csv', index=False)"
   ]
  }
 ],
 "metadata": {
  "kernelspec": {
   "display_name": "Python 3 (ipykernel)",
   "language": "python",
   "name": "python3"
  },
  "language_info": {
   "codemirror_mode": {
    "name": "ipython",
    "version": 3
   },
   "file_extension": ".py",
   "mimetype": "text/x-python",
   "name": "python",
   "nbconvert_exporter": "python",
   "pygments_lexer": "ipython3",
   "version": "3.8.8"
  }
 },
 "nbformat": 4,
 "nbformat_minor": 5
}
