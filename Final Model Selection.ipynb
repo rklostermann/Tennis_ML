{
 "cells": [
  {
   "cell_type": "markdown",
   "id": "1e363c43",
   "metadata": {},
   "source": [
    "## Summary: Compare model results and final model selection"
   ]
  },
  {
   "cell_type": "code",
   "execution_count": 1,
   "id": "de67ceb9",
   "metadata": {},
   "outputs": [],
   "source": [
    "import joblib\n",
    "import pandas as pd\n",
    "from sklearn.metrics import accuracy_score, precision_score, recall_score\n",
    "from time import time\n",
    "import matplotlib.pyplot as plt\n",
    "from sklearn.metrics import plot_confusion_matrix\n",
    "from sklearn.metrics import confusion_matrix, ConfusionMatrixDisplay\n",
    "import seaborn as sns\n",
    "%matplotlib inline\n",
    "from sklearn.metrics import roc_auc_score\n",
    "from sklearn.metrics import f1_score\n",
    "from sklearn.metrics import cohen_kappa_score\n",
    "import warnings\n",
    "warnings.filterwarnings('ignore')"
   ]
  },
  {
   "cell_type": "markdown",
   "id": "52170c8d",
   "metadata": {},
   "source": [
    "#### Import validation and test data"
   ]
  },
  {
   "cell_type": "code",
   "execution_count": 2,
   "id": "5918872a",
   "metadata": {},
   "outputs": [],
   "source": [
    "val_features = pd.read_csv('val_features.csv')\n",
    "val_labels = pd.read_csv('val_labels.csv')\n",
    "\n",
    "te_features = pd.read_csv('test_features.csv')\n",
    "te_labels = pd.read_csv('test_labels.csv')"
   ]
  },
  {
   "cell_type": "markdown",
   "id": "14ee370d",
   "metadata": {},
   "source": [
    "#### Read the models that are saved"
   ]
  },
  {
   "cell_type": "code",
   "execution_count": 3,
   "id": "6e00cb75",
   "metadata": {},
   "outputs": [],
   "source": [
    "models = {}\n",
    "\n",
    "for mdl in ['LR', 'SVM', 'MLP', 'RF', 'GB','XGB']:\n",
    "    models[mdl] = joblib.load('{}_model.pkl'.format(mdl))"
   ]
  },
  {
   "cell_type": "code",
   "execution_count": 4,
   "id": "72c337a6",
   "metadata": {},
   "outputs": [
    {
     "data": {
      "text/plain": [
       "{'LR': LogisticRegression(C=0.01),\n",
       " 'SVM': SVC(C=1),\n",
       " 'MLP': MLPClassifier(activation='tanh', hidden_layer_sizes=(50,)),\n",
       " 'RF': RandomForestClassifier(max_depth=4, n_estimators=50),\n",
       " 'GB': GradientBoostingClassifier(max_depth=1, n_estimators=250),\n",
       " 'XGB': XGBClassifier(base_score=0.5, booster='gbtree', colsample_bylevel=1,\n",
       "               colsample_bynode=1, colsample_bytree=1, enable_categorical=False,\n",
       "               gamma=0, gpu_id=-1, importance_type=None,\n",
       "               interaction_constraints='', learning_rate=0.01, max_delta_step=0,\n",
       "               max_depth=6, min_child_weight=1, missing=nan,\n",
       "               monotone_constraints='()', n_estimators=250, n_jobs=4,\n",
       "               num_parallel_tree=1, predictor='auto', random_state=0,\n",
       "               reg_alpha=0, reg_lambda=1, scale_pos_weight=1, subsample=1,\n",
       "               tree_method='exact', validate_parameters=1, verbosity=None)}"
      ]
     },
     "execution_count": 4,
     "metadata": {},
     "output_type": "execute_result"
    }
   ],
   "source": [
    "models"
   ]
  },
  {
   "cell_type": "markdown",
   "id": "713e9641",
   "metadata": {},
   "source": [
    "### Accuracy = Predict Correctly/Total Examples <br> Precision = Predicted as Over that actually Over/ Total Predicted Over <br> Recall = Predicted as Over that actually Over/Total that actually is Over"
   ]
  },
  {
   "cell_type": "markdown",
   "id": "cdbf5544",
   "metadata": {},
   "source": [
    "### Function to evaluate the models"
   ]
  },
  {
   "cell_type": "code",
   "execution_count": 5,
   "id": "a881f571",
   "metadata": {},
   "outputs": [],
   "source": [
    "def evaluate_model(name, model, features, labels):\n",
    "    start = time()\n",
    "    pred = model.predict(features)\n",
    "    end = time()\n",
    "    accuracy = round(accuracy_score(labels, pred), 3)\n",
    "    precision = round(precision_score(labels, pred), 3)\n",
    "    recall = round(recall_score(labels, pred), 3)\n",
    "    f1 = round(recall_score(labels, pred), 3)\n",
    "    cks = round(cohen_kappa_score(labels, pred), 3)\n",
    "    auc = round(roc_auc_score(labels, pred), 3)\n",
    "    print('{} -- Accuracy: {} / Precision: {} / Recall: {} / F1: {} / CohenKappa: {} / AUC: {} / Latency: {}ms'.format(name,\n",
    "                                                                                   accuracy,\n",
    "                                                                                   precision,\n",
    "                                                                                   recall,\n",
    "                                                                                   f1,\n",
    "                                                                                   cks,\n",
    "                                                                                   auc,                                     \n",
    "                                                                                   round((end - start)*1000, 1)))"
   ]
  },
  {
   "cell_type": "markdown",
   "id": "0505e827",
   "metadata": {},
   "source": [
    "### Run the models on Validation dataset (unseen data)"
   ]
  },
  {
   "cell_type": "code",
   "execution_count": 6,
   "id": "a72c9d2d",
   "metadata": {},
   "outputs": [
    {
     "name": "stdout",
     "output_type": "stream",
     "text": [
      "LR -- Accuracy: 0.582 / Precision: 0.579 / Recall: 0.821 / F1: 0.821 / CohenKappa: 0.128 / AUC: 0.562 / Latency: 27.6ms\n",
      "SVM -- Accuracy: 0.574 / Precision: 0.572 / Recall: 0.838 / F1: 0.838 / CohenKappa: 0.108 / AUC: 0.552 / Latency: 8718.7ms\n",
      "MLP -- Accuracy: 0.593 / Precision: 0.596 / Recall: 0.757 / F1: 0.757 / CohenKappa: 0.162 / AUC: 0.579 / Latency: 0.0ms\n",
      "RF -- Accuracy: 0.588 / Precision: 0.6 / Recall: 0.706 / F1: 0.706 / CohenKappa: 0.158 / AUC: 0.578 / Latency: 31.2ms\n",
      "GB -- Accuracy: 0.58 / Precision: 0.59 / Recall: 0.719 / F1: 0.719 / CohenKappa: 0.138 / AUC: 0.568 / Latency: 15.6ms\n",
      "XGB -- Accuracy: 0.581 / Precision: 0.593 / Recall: 0.714 / F1: 0.714 / CohenKappa: 0.143 / AUC: 0.57 / Latency: 22.1ms\n"
     ]
    }
   ],
   "source": [
    "for name, mdl in models.items():\n",
    "    evaluate_model(name, mdl, val_features, val_labels)"
   ]
  },
  {
   "cell_type": "markdown",
   "id": "fec45dca",
   "metadata": {},
   "source": [
    "### Evaluate best model on test dataset\n"
   ]
  },
  {
   "cell_type": "code",
   "execution_count": 7,
   "id": "42e164ca",
   "metadata": {},
   "outputs": [
    {
     "name": "stdout",
     "output_type": "stream",
     "text": [
      "MLPClassifier -- Accuracy: 0.587 / Precision: 0.586 / Recall: 0.741 / F1: 0.741 / CohenKappa: 0.159 / AUC: 0.578 / Latency: 14.0ms\n"
     ]
    }
   ],
   "source": [
    "evaluate_model('MLPClassifier', models['MLP'], te_features, te_labels)"
   ]
  },
  {
   "cell_type": "code",
   "execution_count": 8,
   "id": "bfe7c944",
   "metadata": {},
   "outputs": [
    {
     "data": {
      "text/plain": [
       "<sklearn.metrics._plot.confusion_matrix.ConfusionMatrixDisplay at 0x1598cb781c0>"
      ]
     },
     "execution_count": 8,
     "metadata": {},
     "output_type": "execute_result"
    },
    {
     "data": {
      "image/png": "[encoded data removed]",
      "text/plain": [
       "<Figure size 432x288 with 2 Axes>"
      ]
     },
     "metadata": {
      "needs_background": "light"
     },
     "output_type": "display_data"
    }
   ],
   "source": [
    "ConfusionMatrixDisplay.from_estimator(models['MLP'], te_features, te_labels, normalize = 'pred')"
   ]
  },
  {
   "cell_type": "code",
   "execution_count": 9,
   "id": "bc4e646b",
   "metadata": {},
   "outputs": [
    {
     "data": {
      "text/plain": [
       "<sklearn.metrics._plot.confusion_matrix.ConfusionMatrixDisplay at 0x15992f2c850>"
      ]
     },
     "execution_count": 9,
     "metadata": {},
     "output_type": "execute_result"
    },
    {
     "data": {
      "image/png": "[encoded data removed]",
      "text/plain": [
       "<Figure size 432x288 with 2 Axes>"
      ]
     },
     "metadata": {
      "needs_background": "light"
     },
     "output_type": "display_data"
    }
   ],
   "source": [
    "ConfusionMatrixDisplay.from_estimator(models['MLP'], te_features, te_labels)"
   ]
  },
  {
   "cell_type": "code",
   "execution_count": null,
   "id": "1c36e165",
   "metadata": {},
   "outputs": [],
   "source": []
  }
 ],
 "metadata": {
  "kernelspec": {
   "display_name": "Python 3 (ipykernel)",
   "language": "python",
   "name": "python3"
  },
  "language_info": {
   "codemirror_mode": {
    "name": "ipython",
    "version": 3
   },
   "file_extension": ".py",
   "mimetype": "text/x-python",
   "name": "python",
   "nbconvert_exporter": "python",
   "pygments_lexer": "ipython3",
   "version": "3.8.8"
  }
 },
 "nbformat": 4,
 "nbformat_minor": 5
}
