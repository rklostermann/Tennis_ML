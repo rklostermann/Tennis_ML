{
 "cells": [
  {
   "cell_type": "markdown",
   "id": "f4ec82e0",
   "metadata": {},
   "source": [
    "### Random Forest"
   ]
  },
  {
   "cell_type": "markdown",
   "id": "79259cbe",
   "metadata": {},
   "source": [
    "#### A randon forest merges a collection of independent decision trees to get a more accurate and stable prediction <br> Ensemble methods combine several machine learning models in order to decrease both bias and variance <br> The n_estimators hyperparameter controls how many individual decision trees will be built <br> The max_depth hyperparameter controls how deep each individual decision tree can go"
   ]
  },
  {
   "cell_type": "code",
   "execution_count": 1,
   "id": "23230d3a",
   "metadata": {},
   "outputs": [],
   "source": [
    "import joblib\n",
    "import pandas as pd\n",
    "from sklearn.ensemble import RandomForestClassifier\n",
    "from sklearn.model_selection import GridSearchCV\n",
    "import warnings\n",
    "warnings.filterwarnings('ignore')\n",
    "\n",
    "tr_features = pd.read_csv('train_features.csv')\n",
    "tr_labels = pd.read_csv('train_labels.csv')"
   ]
  },
  {
   "cell_type": "code",
   "execution_count": 2,
   "id": "73c3094f",
   "metadata": {},
   "outputs": [],
   "source": [
    "def print_results(results):\n",
    "    print('BEST PARAMS: {}\\n'.format(results.best_params_))\n",
    "\n",
    "    means = results.cv_results_['mean_test_score']\n",
    "    stds = results.cv_results_['std_test_score']\n",
    "    for mean, std, params in zip(means, stds, results.cv_results_['params']):\n",
    "        print('{} (+/-{}) for {}'.format(round(mean, 3), round(std * 2, 3), params))"
   ]
  },
  {
   "cell_type": "code",
   "execution_count": 3,
   "id": "0221de49",
   "metadata": {},
   "outputs": [
    {
     "name": "stdout",
     "output_type": "stream",
     "text": [
      "BEST PARAMS: {'max_depth': 4, 'n_estimators': 50}\n",
      "\n",
      "0.572 (+/-0.008) for {'max_depth': 2, 'n_estimators': 5}\n",
      "0.575 (+/-0.003) for {'max_depth': 2, 'n_estimators': 50}\n",
      "0.574 (+/-0.003) for {'max_depth': 2, 'n_estimators': 250}\n",
      "0.572 (+/-0.009) for {'max_depth': 4, 'n_estimators': 5}\n",
      "0.577 (+/-0.011) for {'max_depth': 4, 'n_estimators': 50}\n",
      "0.575 (+/-0.005) for {'max_depth': 4, 'n_estimators': 250}\n",
      "0.562 (+/-0.015) for {'max_depth': 8, 'n_estimators': 5}\n",
      "0.569 (+/-0.008) for {'max_depth': 8, 'n_estimators': 50}\n",
      "0.571 (+/-0.009) for {'max_depth': 8, 'n_estimators': 250}\n",
      "0.542 (+/-0.01) for {'max_depth': 16, 'n_estimators': 5}\n",
      "0.547 (+/-0.021) for {'max_depth': 16, 'n_estimators': 50}\n",
      "0.55 (+/-0.024) for {'max_depth': 16, 'n_estimators': 250}\n",
      "0.529 (+/-0.012) for {'max_depth': 32, 'n_estimators': 5}\n",
      "0.537 (+/-0.023) for {'max_depth': 32, 'n_estimators': 50}\n",
      "0.539 (+/-0.014) for {'max_depth': 32, 'n_estimators': 250}\n",
      "0.523 (+/-0.023) for {'max_depth': None, 'n_estimators': 5}\n",
      "0.532 (+/-0.013) for {'max_depth': None, 'n_estimators': 50}\n",
      "0.538 (+/-0.013) for {'max_depth': None, 'n_estimators': 250}\n"
     ]
    }
   ],
   "source": [
    "rf = RandomForestClassifier()\n",
    "parameters = {\n",
    "    'n_estimators': [5, 50, 250],\n",
    "    'max_depth': [2, 4, 8, 16, 32, None]\n",
    "}\n",
    "\n",
    "cv = GridSearchCV(rf, parameters, cv=5)\n",
    "cv.fit(tr_features, tr_labels.values.ravel())\n",
    "\n",
    "print_results(cv)"
   ]
  },
  {
   "cell_type": "code",
   "execution_count": 4,
   "id": "f0b4f5af",
   "metadata": {},
   "outputs": [
    {
     "data": {
      "text/plain": [
       "RandomForestClassifier(max_depth=4, n_estimators=50)"
      ]
     },
     "execution_count": 4,
     "metadata": {},
     "output_type": "execute_result"
    }
   ],
   "source": [
    "cv.best_estimator_"
   ]
  },
  {
   "cell_type": "code",
   "execution_count": 5,
   "id": "38809722",
   "metadata": {},
   "outputs": [
    {
     "data": {
      "text/plain": [
       "['RF_model.pkl']"
      ]
     },
     "execution_count": 5,
     "metadata": {},
     "output_type": "execute_result"
    }
   ],
   "source": [
    "joblib.dump(cv.best_estimator_, 'RF_model.pkl')"
   ]
  },
  {
   "cell_type": "code",
   "execution_count": null,
   "id": "8fff59ea",
   "metadata": {},
   "outputs": [],
   "source": []
  }
 ],
 "metadata": {
  "kernelspec": {
   "display_name": "Python 3 (ipykernel)",
   "language": "python",
   "name": "python3"
  },
  "language_info": {
   "codemirror_mode": {
    "name": "ipython",
    "version": 3
   },
   "file_extension": ".py",
   "mimetype": "text/x-python",
   "name": "python",
   "nbconvert_exporter": "python",
   "pygments_lexer": "ipython3",
   "version": "3.8.8"
  }
 },
 "nbformat": 4,
 "nbformat_minor": 5
}
