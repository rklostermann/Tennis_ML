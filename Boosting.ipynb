{
 "cells": [
  {
   "cell_type": "markdown",
   "id": "5156ed67",
   "metadata": {},
   "source": [
    "### Boosting"
   ]
  },
  {
   "cell_type": "markdown",
   "id": "d4fe763a",
   "metadata": {},
   "source": [
    "#### Boosting is an ensemble method that aggregates a number of weak models to create a strong model."
   ]
  },
  {
   "cell_type": "code",
   "execution_count": 1,
   "id": "a8147d0c",
   "metadata": {},
   "outputs": [],
   "source": [
    "import joblib\n",
    "import pandas as pd\n",
    "from sklearn.ensemble import GradientBoostingClassifier\n",
    "from sklearn.model_selection import GridSearchCV\n",
    "import warnings\n",
    "warnings.filterwarnings('ignore')\n",
    "\n",
    "tr_features = pd.read_csv('train_features.csv')\n",
    "tr_labels = pd.read_csv('train_labels.csv')"
   ]
  },
  {
   "cell_type": "code",
   "execution_count": 2,
   "id": "a18fa400",
   "metadata": {},
   "outputs": [],
   "source": [
    "def print_results(results):\n",
    "    print('BEST PARAMS: {}\\n'.format(results.best_params_))\n",
    "\n",
    "    means = results.cv_results_['mean_test_score']\n",
    "    stds = results.cv_results_['std_test_score']\n",
    "    for mean, std, params in zip(means, stds, results.cv_results_['params']):\n",
    "        print('{} (+/-{}) for {}'.format(round(mean, 3), round(std * 2, 3), params))"
   ]
  },
  {
   "cell_type": "code",
   "execution_count": 3,
   "id": "0b342d28",
   "metadata": {},
   "outputs": [
    {
     "name": "stdout",
     "output_type": "stream",
     "text": [
      "BEST PARAMS: {'learning_rate': 0.1, 'max_depth': 1, 'n_estimators': 250}\n",
      "\n",
      "0.53 (+/-0.0) for {'learning_rate': 0.01, 'max_depth': 1, 'n_estimators': 5}\n",
      "0.561 (+/-0.008) for {'learning_rate': 0.01, 'max_depth': 1, 'n_estimators': 50}\n",
      "0.575 (+/-0.005) for {'learning_rate': 0.01, 'max_depth': 1, 'n_estimators': 250}\n",
      "0.577 (+/-0.005) for {'learning_rate': 0.01, 'max_depth': 1, 'n_estimators': 500}\n",
      "0.53 (+/-0.0) for {'learning_rate': 0.01, 'max_depth': 3, 'n_estimators': 5}\n",
      "0.562 (+/-0.006) for {'learning_rate': 0.01, 'max_depth': 3, 'n_estimators': 50}\n",
      "0.575 (+/-0.007) for {'learning_rate': 0.01, 'max_depth': 3, 'n_estimators': 250}\n",
      "0.572 (+/-0.009) for {'learning_rate': 0.01, 'max_depth': 3, 'n_estimators': 500}\n",
      "0.53 (+/-0.0) for {'learning_rate': 0.01, 'max_depth': 5, 'n_estimators': 5}\n",
      "0.561 (+/-0.011) for {'learning_rate': 0.01, 'max_depth': 5, 'n_estimators': 50}\n",
      "0.568 (+/-0.014) for {'learning_rate': 0.01, 'max_depth': 5, 'n_estimators': 250}\n",
      "0.566 (+/-0.01) for {'learning_rate': 0.01, 'max_depth': 5, 'n_estimators': 500}\n",
      "0.53 (+/-0.0) for {'learning_rate': 0.01, 'max_depth': 7, 'n_estimators': 5}\n",
      "0.556 (+/-0.017) for {'learning_rate': 0.01, 'max_depth': 7, 'n_estimators': 50}\n",
      "0.561 (+/-0.016) for {'learning_rate': 0.01, 'max_depth': 7, 'n_estimators': 250}\n",
      "0.557 (+/-0.012) for {'learning_rate': 0.01, 'max_depth': 7, 'n_estimators': 500}\n",
      "0.561 (+/-0.008) for {'learning_rate': 0.1, 'max_depth': 1, 'n_estimators': 5}\n",
      "0.576 (+/-0.004) for {'learning_rate': 0.1, 'max_depth': 1, 'n_estimators': 50}\n",
      "0.578 (+/-0.007) for {'learning_rate': 0.1, 'max_depth': 1, 'n_estimators': 250}\n",
      "0.578 (+/-0.008) for {'learning_rate': 0.1, 'max_depth': 1, 'n_estimators': 500}\n",
      "0.561 (+/-0.006) for {'learning_rate': 0.1, 'max_depth': 3, 'n_estimators': 5}\n",
      "0.573 (+/-0.007) for {'learning_rate': 0.1, 'max_depth': 3, 'n_estimators': 50}\n",
      "0.564 (+/-0.004) for {'learning_rate': 0.1, 'max_depth': 3, 'n_estimators': 250}\n",
      "0.557 (+/-0.01) for {'learning_rate': 0.1, 'max_depth': 3, 'n_estimators': 500}\n",
      "0.563 (+/-0.013) for {'learning_rate': 0.1, 'max_depth': 5, 'n_estimators': 5}\n",
      "0.565 (+/-0.007) for {'learning_rate': 0.1, 'max_depth': 5, 'n_estimators': 50}\n",
      "0.553 (+/-0.019) for {'learning_rate': 0.1, 'max_depth': 5, 'n_estimators': 250}\n",
      "0.541 (+/-0.015) for {'learning_rate': 0.1, 'max_depth': 5, 'n_estimators': 500}\n",
      "0.559 (+/-0.018) for {'learning_rate': 0.1, 'max_depth': 7, 'n_estimators': 5}\n",
      "0.557 (+/-0.02) for {'learning_rate': 0.1, 'max_depth': 7, 'n_estimators': 50}\n",
      "0.54 (+/-0.02) for {'learning_rate': 0.1, 'max_depth': 7, 'n_estimators': 250}\n",
      "0.534 (+/-0.018) for {'learning_rate': 0.1, 'max_depth': 7, 'n_estimators': 500}\n",
      "0.571 (+/-0.013) for {'learning_rate': 1, 'max_depth': 1, 'n_estimators': 5}\n",
      "0.574 (+/-0.007) for {'learning_rate': 1, 'max_depth': 1, 'n_estimators': 50}\n",
      "0.573 (+/-0.003) for {'learning_rate': 1, 'max_depth': 1, 'n_estimators': 250}\n",
      "0.57 (+/-0.008) for {'learning_rate': 1, 'max_depth': 1, 'n_estimators': 500}\n",
      "0.565 (+/-0.014) for {'learning_rate': 1, 'max_depth': 3, 'n_estimators': 5}\n",
      "0.551 (+/-0.016) for {'learning_rate': 1, 'max_depth': 3, 'n_estimators': 50}\n",
      "0.527 (+/-0.009) for {'learning_rate': 1, 'max_depth': 3, 'n_estimators': 250}\n",
      "0.525 (+/-0.013) for {'learning_rate': 1, 'max_depth': 3, 'n_estimators': 500}\n",
      "0.558 (+/-0.02) for {'learning_rate': 1, 'max_depth': 5, 'n_estimators': 5}\n",
      "0.526 (+/-0.014) for {'learning_rate': 1, 'max_depth': 5, 'n_estimators': 50}\n",
      "0.525 (+/-0.011) for {'learning_rate': 1, 'max_depth': 5, 'n_estimators': 250}\n",
      "0.524 (+/-0.017) for {'learning_rate': 1, 'max_depth': 5, 'n_estimators': 500}\n",
      "0.55 (+/-0.011) for {'learning_rate': 1, 'max_depth': 7, 'n_estimators': 5}\n",
      "0.521 (+/-0.026) for {'learning_rate': 1, 'max_depth': 7, 'n_estimators': 50}\n",
      "0.523 (+/-0.012) for {'learning_rate': 1, 'max_depth': 7, 'n_estimators': 250}\n",
      "0.526 (+/-0.017) for {'learning_rate': 1, 'max_depth': 7, 'n_estimators': 500}\n",
      "0.53 (+/-0.0) for {'learning_rate': 10, 'max_depth': 1, 'n_estimators': 5}\n",
      "0.53 (+/-0.0) for {'learning_rate': 10, 'max_depth': 1, 'n_estimators': 50}\n",
      "0.53 (+/-0.0) for {'learning_rate': 10, 'max_depth': 1, 'n_estimators': 250}\n",
      "0.53 (+/-0.0) for {'learning_rate': 10, 'max_depth': 1, 'n_estimators': 500}\n",
      "0.524 (+/-0.023) for {'learning_rate': 10, 'max_depth': 3, 'n_estimators': 5}\n",
      "0.524 (+/-0.023) for {'learning_rate': 10, 'max_depth': 3, 'n_estimators': 50}\n",
      "0.524 (+/-0.023) for {'learning_rate': 10, 'max_depth': 3, 'n_estimators': 250}\n",
      "0.524 (+/-0.023) for {'learning_rate': 10, 'max_depth': 3, 'n_estimators': 500}\n",
      "0.508 (+/-0.072) for {'learning_rate': 10, 'max_depth': 5, 'n_estimators': 5}\n",
      "0.508 (+/-0.072) for {'learning_rate': 10, 'max_depth': 5, 'n_estimators': 50}\n",
      "0.508 (+/-0.072) for {'learning_rate': 10, 'max_depth': 5, 'n_estimators': 250}\n",
      "0.508 (+/-0.072) for {'learning_rate': 10, 'max_depth': 5, 'n_estimators': 500}\n",
      "0.505 (+/-0.037) for {'learning_rate': 10, 'max_depth': 7, 'n_estimators': 5}\n",
      "0.5 (+/-0.047) for {'learning_rate': 10, 'max_depth': 7, 'n_estimators': 50}\n",
      "0.505 (+/-0.038) for {'learning_rate': 10, 'max_depth': 7, 'n_estimators': 250}\n",
      "0.504 (+/-0.025) for {'learning_rate': 10, 'max_depth': 7, 'n_estimators': 500}\n"
     ]
    }
   ],
   "source": [
    "gb = GradientBoostingClassifier()\n",
    "parameters = {\n",
    "    'n_estimators': [5, 50, 250, 500],\n",
    "    'max_depth': [1, 3, 5, 7],\n",
    "    'learning_rate': [0.01, 0.1, 1, 10]\n",
    "}\n",
    "\n",
    "cv = GridSearchCV(gb, parameters, cv=5)\n",
    "cv.fit(tr_features, tr_labels.values.ravel())\n",
    "\n",
    "print_results(cv)"
   ]
  },
  {
   "cell_type": "code",
   "execution_count": 4,
   "id": "ba8307e4",
   "metadata": {},
   "outputs": [
    {
     "data": {
      "text/plain": [
       "['GB_model.pkl']"
      ]
     },
     "execution_count": 4,
     "metadata": {},
     "output_type": "execute_result"
    }
   ],
   "source": [
    "joblib.dump(cv.best_estimator_, 'GB_model.pkl')"
   ]
  },
  {
   "cell_type": "code",
   "execution_count": null,
   "id": "b68f7102",
   "metadata": {},
   "outputs": [],
   "source": []
  }
 ],
 "metadata": {
  "kernelspec": {
   "display_name": "Python 3 (ipykernel)",
   "language": "python",
   "name": "python3"
  },
  "language_info": {
   "codemirror_mode": {
    "name": "ipython",
    "version": 3
   },
   "file_extension": ".py",
   "mimetype": "text/x-python",
   "name": "python",
   "nbconvert_exporter": "python",
   "pygments_lexer": "ipython3",
   "version": "3.8.8"
  }
 },
 "nbformat": 4,
 "nbformat_minor": 5
}
